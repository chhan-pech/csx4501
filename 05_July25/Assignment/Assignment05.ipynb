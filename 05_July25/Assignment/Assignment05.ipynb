{
 "cells": [
  {
   "cell_type": "markdown",
   "id": "11047786-2b30-4a94-ab7b-a9a41f616671",
   "metadata": {},
   "source": [
    "# Assignment 5"
   ]
  },
  {
   "cell_type": "markdown",
   "id": "3d1d2808-51df-4ebe-9028-ca3eba365fe4",
   "metadata": {},
   "source": [
    "Let's look at the \"County Demographics\" dataset from CORGIS.\n",
    "* https://corgis-edu.github.io/corgis/csv/county_demographics/"
   ]
  },
  {
   "cell_type": "code",
   "execution_count": 11,
   "id": "3b7288ad-ca4f-4150-b536-f2ef5685905d",
   "metadata": {},
   "outputs": [],
   "source": [
    "import pandas as pd\n",
    "import numpy as np"
   ]
  },
  {
   "cell_type": "code",
   "execution_count": 12,
   "id": "b98ce3a5-3652-45fd-af5a-8a2e5b26480a",
   "metadata": {},
   "outputs": [],
   "source": [
    "# Import the data; call it \"demo\" for \"demographics\"\n",
    "demo = pd.read_csv('county_demographics.csv')"
   ]
  },
  {
   "cell_type": "code",
   "execution_count": 13,
   "id": "8823f516-5c27-4a3f-bec3-f02976703e81",
   "metadata": {},
   "outputs": [
    {
     "data": {
      "text/html": [
       "<div>\n",
       "<style scoped>\n",
       "    .dataframe tbody tr th:only-of-type {\n",
       "        vertical-align: middle;\n",
       "    }\n",
       "\n",
       "    .dataframe tbody tr th {\n",
       "        vertical-align: top;\n",
       "    }\n",
       "\n",
       "    .dataframe thead th {\n",
       "        text-align: right;\n",
       "    }\n",
       "</style>\n",
       "<table border=\"1\" class=\"dataframe\">\n",
       "  <thead>\n",
       "    <tr style=\"text-align: right;\">\n",
       "      <th></th>\n",
       "      <th>County</th>\n",
       "      <th>State</th>\n",
       "      <th>Age.Percent 65 and Older</th>\n",
       "      <th>Age.Percent Under 18 Years</th>\n",
       "      <th>Age.Percent Under 5 Years</th>\n",
       "      <th>Education.Bachelor's Degree or Higher</th>\n",
       "      <th>Education.High School or Higher</th>\n",
       "      <th>Employment.Nonemployer Establishments</th>\n",
       "      <th>Ethnicities.American Indian and Alaska Native Alone</th>\n",
       "      <th>Ethnicities.Asian Alone</th>\n",
       "      <th>...</th>\n",
       "      <th>Population.Population per Square Mile</th>\n",
       "      <th>Sales.Accommodation and Food Services Sales</th>\n",
       "      <th>Sales.Retail Sales</th>\n",
       "      <th>Employment.Firms.Total</th>\n",
       "      <th>Employment.Firms.Women-Owned</th>\n",
       "      <th>Employment.Firms.Men-Owned</th>\n",
       "      <th>Employment.Firms.Minority-Owned</th>\n",
       "      <th>Employment.Firms.Nonminority-Owned</th>\n",
       "      <th>Employment.Firms.Veteran-Owned</th>\n",
       "      <th>Employment.Firms.Nonveteran-Owned</th>\n",
       "    </tr>\n",
       "  </thead>\n",
       "  <tbody>\n",
       "    <tr>\n",
       "      <th>0</th>\n",
       "      <td>Abbeville County</td>\n",
       "      <td>SC</td>\n",
       "      <td>22.4</td>\n",
       "      <td>19.8</td>\n",
       "      <td>4.7</td>\n",
       "      <td>15.6</td>\n",
       "      <td>81.7</td>\n",
       "      <td>1416</td>\n",
       "      <td>0.3</td>\n",
       "      <td>0.4</td>\n",
       "      <td>...</td>\n",
       "      <td>51.8</td>\n",
       "      <td>12507</td>\n",
       "      <td>91371</td>\n",
       "      <td>1450</td>\n",
       "      <td>543</td>\n",
       "      <td>689</td>\n",
       "      <td>317</td>\n",
       "      <td>1080</td>\n",
       "      <td>187</td>\n",
       "      <td>1211</td>\n",
       "    </tr>\n",
       "    <tr>\n",
       "      <th>1</th>\n",
       "      <td>Acadia Parish</td>\n",
       "      <td>LA</td>\n",
       "      <td>15.8</td>\n",
       "      <td>25.8</td>\n",
       "      <td>6.9</td>\n",
       "      <td>13.3</td>\n",
       "      <td>79.0</td>\n",
       "      <td>4533</td>\n",
       "      <td>0.4</td>\n",
       "      <td>0.3</td>\n",
       "      <td>...</td>\n",
       "      <td>94.3</td>\n",
       "      <td>52706</td>\n",
       "      <td>602739</td>\n",
       "      <td>4664</td>\n",
       "      <td>1516</td>\n",
       "      <td>2629</td>\n",
       "      <td>705</td>\n",
       "      <td>3734</td>\n",
       "      <td>388</td>\n",
       "      <td>4007</td>\n",
       "    </tr>\n",
       "    <tr>\n",
       "      <th>2</th>\n",
       "      <td>Accomack County</td>\n",
       "      <td>VA</td>\n",
       "      <td>24.6</td>\n",
       "      <td>20.7</td>\n",
       "      <td>5.6</td>\n",
       "      <td>19.5</td>\n",
       "      <td>81.5</td>\n",
       "      <td>2387</td>\n",
       "      <td>0.7</td>\n",
       "      <td>0.8</td>\n",
       "      <td>...</td>\n",
       "      <td>73.8</td>\n",
       "      <td>53568</td>\n",
       "      <td>348195</td>\n",
       "      <td>2997</td>\n",
       "      <td>802</td>\n",
       "      <td>1716</td>\n",
       "      <td>335</td>\n",
       "      <td>2560</td>\n",
       "      <td>212</td>\n",
       "      <td>2536</td>\n",
       "    </tr>\n",
       "    <tr>\n",
       "      <th>3</th>\n",
       "      <td>Ada County</td>\n",
       "      <td>ID</td>\n",
       "      <td>14.9</td>\n",
       "      <td>23.2</td>\n",
       "      <td>5.6</td>\n",
       "      <td>38.5</td>\n",
       "      <td>95.2</td>\n",
       "      <td>41464</td>\n",
       "      <td>0.8</td>\n",
       "      <td>2.7</td>\n",
       "      <td>...</td>\n",
       "      <td>372.8</td>\n",
       "      <td>763099</td>\n",
       "      <td>5766679</td>\n",
       "      <td>41789</td>\n",
       "      <td>14661</td>\n",
       "      <td>19409</td>\n",
       "      <td>3099</td>\n",
       "      <td>36701</td>\n",
       "      <td>3803</td>\n",
       "      <td>35132</td>\n",
       "    </tr>\n",
       "    <tr>\n",
       "      <th>4</th>\n",
       "      <td>Adair County</td>\n",
       "      <td>IA</td>\n",
       "      <td>23.0</td>\n",
       "      <td>21.8</td>\n",
       "      <td>5.6</td>\n",
       "      <td>18.5</td>\n",
       "      <td>94.2</td>\n",
       "      <td>609</td>\n",
       "      <td>0.3</td>\n",
       "      <td>0.5</td>\n",
       "      <td>...</td>\n",
       "      <td>13.5</td>\n",
       "      <td>-1</td>\n",
       "      <td>63002</td>\n",
       "      <td>914</td>\n",
       "      <td>304</td>\n",
       "      <td>499</td>\n",
       "      <td>0</td>\n",
       "      <td>861</td>\n",
       "      <td>185</td>\n",
       "      <td>679</td>\n",
       "    </tr>\n",
       "    <tr>\n",
       "      <th>...</th>\n",
       "      <td>...</td>\n",
       "      <td>...</td>\n",
       "      <td>...</td>\n",
       "      <td>...</td>\n",
       "      <td>...</td>\n",
       "      <td>...</td>\n",
       "      <td>...</td>\n",
       "      <td>...</td>\n",
       "      <td>...</td>\n",
       "      <td>...</td>\n",
       "      <td>...</td>\n",
       "      <td>...</td>\n",
       "      <td>...</td>\n",
       "      <td>...</td>\n",
       "      <td>...</td>\n",
       "      <td>...</td>\n",
       "      <td>...</td>\n",
       "      <td>...</td>\n",
       "      <td>...</td>\n",
       "      <td>...</td>\n",
       "      <td>...</td>\n",
       "    </tr>\n",
       "    <tr>\n",
       "      <th>3134</th>\n",
       "      <td>Yuma County</td>\n",
       "      <td>AZ</td>\n",
       "      <td>19.3</td>\n",
       "      <td>25.1</td>\n",
       "      <td>7.1</td>\n",
       "      <td>15.0</td>\n",
       "      <td>73.3</td>\n",
       "      <td>9896</td>\n",
       "      <td>2.3</td>\n",
       "      <td>1.5</td>\n",
       "      <td>...</td>\n",
       "      <td>35.5</td>\n",
       "      <td>307540</td>\n",
       "      <td>1995974</td>\n",
       "      <td>10846</td>\n",
       "      <td>4298</td>\n",
       "      <td>4529</td>\n",
       "      <td>5749</td>\n",
       "      <td>4476</td>\n",
       "      <td>839</td>\n",
       "      <td>9265</td>\n",
       "    </tr>\n",
       "    <tr>\n",
       "      <th>3135</th>\n",
       "      <td>Yuma County</td>\n",
       "      <td>CO</td>\n",
       "      <td>18.7</td>\n",
       "      <td>27.4</td>\n",
       "      <td>7.5</td>\n",
       "      <td>21.8</td>\n",
       "      <td>88.6</td>\n",
       "      <td>1020</td>\n",
       "      <td>1.0</td>\n",
       "      <td>0.5</td>\n",
       "      <td>...</td>\n",
       "      <td>4.2</td>\n",
       "      <td>8501</td>\n",
       "      <td>125565</td>\n",
       "      <td>1492</td>\n",
       "      <td>391</td>\n",
       "      <td>797</td>\n",
       "      <td>45</td>\n",
       "      <td>1350</td>\n",
       "      <td>66</td>\n",
       "      <td>1278</td>\n",
       "    </tr>\n",
       "    <tr>\n",
       "      <th>3136</th>\n",
       "      <td>Zapata County</td>\n",
       "      <td>TX</td>\n",
       "      <td>13.2</td>\n",
       "      <td>33.1</td>\n",
       "      <td>8.6</td>\n",
       "      <td>11.6</td>\n",
       "      <td>61.9</td>\n",
       "      <td>1452</td>\n",
       "      <td>0.5</td>\n",
       "      <td>0.2</td>\n",
       "      <td>...</td>\n",
       "      <td>14.0</td>\n",
       "      <td>-1</td>\n",
       "      <td>75681</td>\n",
       "      <td>1964</td>\n",
       "      <td>818</td>\n",
       "      <td>1003</td>\n",
       "      <td>1680</td>\n",
       "      <td>235</td>\n",
       "      <td>181</td>\n",
       "      <td>1738</td>\n",
       "    </tr>\n",
       "    <tr>\n",
       "      <th>3137</th>\n",
       "      <td>Zavala County</td>\n",
       "      <td>TX</td>\n",
       "      <td>14.6</td>\n",
       "      <td>28.4</td>\n",
       "      <td>7.2</td>\n",
       "      <td>10.9</td>\n",
       "      <td>66.9</td>\n",
       "      <td>837</td>\n",
       "      <td>1.1</td>\n",
       "      <td>0.3</td>\n",
       "      <td>...</td>\n",
       "      <td>9.0</td>\n",
       "      <td>8808</td>\n",
       "      <td>45596</td>\n",
       "      <td>1232</td>\n",
       "      <td>486</td>\n",
       "      <td>674</td>\n",
       "      <td>1062</td>\n",
       "      <td>159</td>\n",
       "      <td>42</td>\n",
       "      <td>1178</td>\n",
       "    </tr>\n",
       "    <tr>\n",
       "      <th>3138</th>\n",
       "      <td>Ziebach County</td>\n",
       "      <td>SD</td>\n",
       "      <td>9.6</td>\n",
       "      <td>27.5</td>\n",
       "      <td>5.5</td>\n",
       "      <td>16.4</td>\n",
       "      <td>84.1</td>\n",
       "      <td>87</td>\n",
       "      <td>71.1</td>\n",
       "      <td>0.3</td>\n",
       "      <td>...</td>\n",
       "      <td>1.4</td>\n",
       "      <td>-1</td>\n",
       "      <td>15757</td>\n",
       "      <td>78</td>\n",
       "      <td>0</td>\n",
       "      <td>42</td>\n",
       "      <td>29</td>\n",
       "      <td>36</td>\n",
       "      <td>0</td>\n",
       "      <td>54</td>\n",
       "    </tr>\n",
       "  </tbody>\n",
       "</table>\n",
       "<p>3139 rows × 43 columns</p>\n",
       "</div>"
      ],
      "text/plain": [
       "                County State  Age.Percent 65 and Older  \\\n",
       "0     Abbeville County    SC                      22.4   \n",
       "1        Acadia Parish    LA                      15.8   \n",
       "2      Accomack County    VA                      24.6   \n",
       "3           Ada County    ID                      14.9   \n",
       "4         Adair County    IA                      23.0   \n",
       "...                ...   ...                       ...   \n",
       "3134       Yuma County    AZ                      19.3   \n",
       "3135       Yuma County    CO                      18.7   \n",
       "3136     Zapata County    TX                      13.2   \n",
       "3137     Zavala County    TX                      14.6   \n",
       "3138    Ziebach County    SD                       9.6   \n",
       "\n",
       "      Age.Percent Under 18 Years  Age.Percent Under 5 Years  \\\n",
       "0                           19.8                        4.7   \n",
       "1                           25.8                        6.9   \n",
       "2                           20.7                        5.6   \n",
       "3                           23.2                        5.6   \n",
       "4                           21.8                        5.6   \n",
       "...                          ...                        ...   \n",
       "3134                        25.1                        7.1   \n",
       "3135                        27.4                        7.5   \n",
       "3136                        33.1                        8.6   \n",
       "3137                        28.4                        7.2   \n",
       "3138                        27.5                        5.5   \n",
       "\n",
       "      Education.Bachelor's Degree or Higher  Education.High School or Higher  \\\n",
       "0                                      15.6                             81.7   \n",
       "1                                      13.3                             79.0   \n",
       "2                                      19.5                             81.5   \n",
       "3                                      38.5                             95.2   \n",
       "4                                      18.5                             94.2   \n",
       "...                                     ...                              ...   \n",
       "3134                                   15.0                             73.3   \n",
       "3135                                   21.8                             88.6   \n",
       "3136                                   11.6                             61.9   \n",
       "3137                                   10.9                             66.9   \n",
       "3138                                   16.4                             84.1   \n",
       "\n",
       "      Employment.Nonemployer Establishments  \\\n",
       "0                                      1416   \n",
       "1                                      4533   \n",
       "2                                      2387   \n",
       "3                                     41464   \n",
       "4                                       609   \n",
       "...                                     ...   \n",
       "3134                                   9896   \n",
       "3135                                   1020   \n",
       "3136                                   1452   \n",
       "3137                                    837   \n",
       "3138                                     87   \n",
       "\n",
       "      Ethnicities.American Indian and Alaska Native Alone  \\\n",
       "0                                                   0.3     \n",
       "1                                                   0.4     \n",
       "2                                                   0.7     \n",
       "3                                                   0.8     \n",
       "4                                                   0.3     \n",
       "...                                                 ...     \n",
       "3134                                                2.3     \n",
       "3135                                                1.0     \n",
       "3136                                                0.5     \n",
       "3137                                                1.1     \n",
       "3138                                               71.1     \n",
       "\n",
       "      Ethnicities.Asian Alone  ...  Population.Population per Square Mile  \\\n",
       "0                         0.4  ...                                   51.8   \n",
       "1                         0.3  ...                                   94.3   \n",
       "2                         0.8  ...                                   73.8   \n",
       "3                         2.7  ...                                  372.8   \n",
       "4                         0.5  ...                                   13.5   \n",
       "...                       ...  ...                                    ...   \n",
       "3134                      1.5  ...                                   35.5   \n",
       "3135                      0.5  ...                                    4.2   \n",
       "3136                      0.2  ...                                   14.0   \n",
       "3137                      0.3  ...                                    9.0   \n",
       "3138                      0.3  ...                                    1.4   \n",
       "\n",
       "      Sales.Accommodation and Food Services Sales  Sales.Retail Sales  \\\n",
       "0                                           12507               91371   \n",
       "1                                           52706              602739   \n",
       "2                                           53568              348195   \n",
       "3                                          763099             5766679   \n",
       "4                                              -1               63002   \n",
       "...                                           ...                 ...   \n",
       "3134                                       307540             1995974   \n",
       "3135                                         8501              125565   \n",
       "3136                                           -1               75681   \n",
       "3137                                         8808               45596   \n",
       "3138                                           -1               15757   \n",
       "\n",
       "      Employment.Firms.Total  Employment.Firms.Women-Owned  \\\n",
       "0                       1450                           543   \n",
       "1                       4664                          1516   \n",
       "2                       2997                           802   \n",
       "3                      41789                         14661   \n",
       "4                        914                           304   \n",
       "...                      ...                           ...   \n",
       "3134                   10846                          4298   \n",
       "3135                    1492                           391   \n",
       "3136                    1964                           818   \n",
       "3137                    1232                           486   \n",
       "3138                      78                             0   \n",
       "\n",
       "      Employment.Firms.Men-Owned  Employment.Firms.Minority-Owned  \\\n",
       "0                            689                              317   \n",
       "1                           2629                              705   \n",
       "2                           1716                              335   \n",
       "3                          19409                             3099   \n",
       "4                            499                                0   \n",
       "...                          ...                              ...   \n",
       "3134                        4529                             5749   \n",
       "3135                         797                               45   \n",
       "3136                        1003                             1680   \n",
       "3137                         674                             1062   \n",
       "3138                          42                               29   \n",
       "\n",
       "      Employment.Firms.Nonminority-Owned  Employment.Firms.Veteran-Owned  \\\n",
       "0                                   1080                             187   \n",
       "1                                   3734                             388   \n",
       "2                                   2560                             212   \n",
       "3                                  36701                            3803   \n",
       "4                                    861                             185   \n",
       "...                                  ...                             ...   \n",
       "3134                                4476                             839   \n",
       "3135                                1350                              66   \n",
       "3136                                 235                             181   \n",
       "3137                                 159                              42   \n",
       "3138                                  36                               0   \n",
       "\n",
       "      Employment.Firms.Nonveteran-Owned  \n",
       "0                                  1211  \n",
       "1                                  4007  \n",
       "2                                  2536  \n",
       "3                                 35132  \n",
       "4                                   679  \n",
       "...                                 ...  \n",
       "3134                               9265  \n",
       "3135                               1278  \n",
       "3136                               1738  \n",
       "3137                               1178  \n",
       "3138                                 54  \n",
       "\n",
       "[3139 rows x 43 columns]"
      ]
     },
     "execution_count": 13,
     "metadata": {},
     "output_type": "execute_result"
    }
   ],
   "source": [
    "demo"
   ]
  },
  {
   "cell_type": "code",
   "execution_count": 14,
   "id": "e15c3dbe-d891-4a09-bc1e-a9a6339046f2",
   "metadata": {},
   "outputs": [],
   "source": [
    "# Create new datafram, keep CA records\n",
    "CA_demo = demo[demo.State =='CA'].copy()"
   ]
  },
  {
   "cell_type": "code",
   "execution_count": null,
   "id": "74afa618-cae4-410e-830a-1e8e11a3785c",
   "metadata": {},
   "outputs": [],
   "source": [
    "CA_demo"
   ]
  },
  {
   "cell_type": "markdown",
   "id": "13ecf3b7-88b9-41da-b99f-b4fdb4972f02",
   "metadata": {},
   "source": [
    "Print descriptive statistics about the columns using the \"describe\" method"
   ]
  },
  {
   "cell_type": "code",
   "execution_count": 16,
   "id": "38e183d5-a7c1-4504-bb8f-803e3ca96fe6",
   "metadata": {},
   "outputs": [
    {
     "data": {
      "text/html": [
       "<div>\n",
       "<style scoped>\n",
       "    .dataframe tbody tr th:only-of-type {\n",
       "        vertical-align: middle;\n",
       "    }\n",
       "\n",
       "    .dataframe tbody tr th {\n",
       "        vertical-align: top;\n",
       "    }\n",
       "\n",
       "    .dataframe thead th {\n",
       "        text-align: right;\n",
       "    }\n",
       "</style>\n",
       "<table border=\"1\" class=\"dataframe\">\n",
       "  <thead>\n",
       "    <tr style=\"text-align: right;\">\n",
       "      <th></th>\n",
       "      <th>Age.Percent 65 and Older</th>\n",
       "      <th>Age.Percent Under 18 Years</th>\n",
       "      <th>Age.Percent Under 5 Years</th>\n",
       "      <th>Education.Bachelor's Degree or Higher</th>\n",
       "      <th>Education.High School or Higher</th>\n",
       "      <th>Employment.Nonemployer Establishments</th>\n",
       "      <th>Ethnicities.American Indian and Alaska Native Alone</th>\n",
       "      <th>Ethnicities.Asian Alone</th>\n",
       "      <th>Ethnicities.Black Alone</th>\n",
       "      <th>Ethnicities.Hispanic or Latino</th>\n",
       "      <th>...</th>\n",
       "      <th>Population.Population per Square Mile</th>\n",
       "      <th>Sales.Accommodation and Food Services Sales</th>\n",
       "      <th>Sales.Retail Sales</th>\n",
       "      <th>Employment.Firms.Total</th>\n",
       "      <th>Employment.Firms.Women-Owned</th>\n",
       "      <th>Employment.Firms.Men-Owned</th>\n",
       "      <th>Employment.Firms.Minority-Owned</th>\n",
       "      <th>Employment.Firms.Nonminority-Owned</th>\n",
       "      <th>Employment.Firms.Veteran-Owned</th>\n",
       "      <th>Employment.Firms.Nonveteran-Owned</th>\n",
       "    </tr>\n",
       "  </thead>\n",
       "  <tbody>\n",
       "    <tr>\n",
       "      <th>count</th>\n",
       "      <td>58.000000</td>\n",
       "      <td>58.000000</td>\n",
       "      <td>58.000000</td>\n",
       "      <td>58.000000</td>\n",
       "      <td>58.000000</td>\n",
       "      <td>5.800000e+01</td>\n",
       "      <td>58.000000</td>\n",
       "      <td>58.000000</td>\n",
       "      <td>58.000000</td>\n",
       "      <td>58.000000</td>\n",
       "      <td>...</td>\n",
       "      <td>58.000000</td>\n",
       "      <td>5.800000e+01</td>\n",
       "      <td>5.800000e+01</td>\n",
       "      <td>5.800000e+01</td>\n",
       "      <td>58.000000</td>\n",
       "      <td>58.000000</td>\n",
       "      <td>58.000000</td>\n",
       "      <td>58.000000</td>\n",
       "      <td>58.000000</td>\n",
       "      <td>5.800000e+01</td>\n",
       "    </tr>\n",
       "    <tr>\n",
       "      <th>mean</th>\n",
       "      <td>18.465517</td>\n",
       "      <td>21.862069</td>\n",
       "      <td>5.765517</td>\n",
       "      <td>27.291379</td>\n",
       "      <td>84.687931</td>\n",
       "      <td>5.954774e+04</td>\n",
       "      <td>3.244828</td>\n",
       "      <td>8.058621</td>\n",
       "      <td>3.594828</td>\n",
       "      <td>31.218966</td>\n",
       "      <td>...</td>\n",
       "      <td>663.251724</td>\n",
       "      <td>1.565230e+06</td>\n",
       "      <td>8.306904e+06</td>\n",
       "      <td>6.184531e+04</td>\n",
       "      <td>22788.706897</td>\n",
       "      <td>32170.068966</td>\n",
       "      <td>27967.982759</td>\n",
       "      <td>31607.068966</td>\n",
       "      <td>4381.172414</td>\n",
       "      <td>5.501450e+04</td>\n",
       "    </tr>\n",
       "    <tr>\n",
       "      <th>std</th>\n",
       "      <td>5.700032</td>\n",
       "      <td>4.089088</td>\n",
       "      <td>1.120080</td>\n",
       "      <td>11.975359</td>\n",
       "      <td>7.138138</td>\n",
       "      <td>1.552109e+05</td>\n",
       "      <td>3.691345</td>\n",
       "      <td>8.999474</td>\n",
       "      <td>3.185572</td>\n",
       "      <td>18.275623</td>\n",
       "      <td>...</td>\n",
       "      <td>2314.754632</td>\n",
       "      <td>3.541060e+06</td>\n",
       "      <td>1.825140e+07</td>\n",
       "      <td>1.605222e+05</td>\n",
       "      <td>61022.345028</td>\n",
       "      <td>84271.975619</td>\n",
       "      <td>86366.034862</td>\n",
       "      <td>70396.796561</td>\n",
       "      <td>10073.913299</td>\n",
       "      <td>1.457251e+05</td>\n",
       "    </tr>\n",
       "    <tr>\n",
       "      <th>min</th>\n",
       "      <td>10.500000</td>\n",
       "      <td>13.400000</td>\n",
       "      <td>4.100000</td>\n",
       "      <td>12.900000</td>\n",
       "      <td>69.100000</td>\n",
       "      <td>1.050000e+02</td>\n",
       "      <td>0.700000</td>\n",
       "      <td>0.900000</td>\n",
       "      <td>0.400000</td>\n",
       "      <td>7.400000</td>\n",
       "      <td>...</td>\n",
       "      <td>1.600000</td>\n",
       "      <td>-1.000000e+00</td>\n",
       "      <td>5.760000e+02</td>\n",
       "      <td>1.250000e+02</td>\n",
       "      <td>49.000000</td>\n",
       "      <td>0.000000</td>\n",
       "      <td>0.000000</td>\n",
       "      <td>115.000000</td>\n",
       "      <td>0.000000</td>\n",
       "      <td>1.160000e+02</td>\n",
       "    </tr>\n",
       "    <tr>\n",
       "      <th>25%</th>\n",
       "      <td>14.150000</td>\n",
       "      <td>19.075000</td>\n",
       "      <td>4.800000</td>\n",
       "      <td>17.300000</td>\n",
       "      <td>80.025000</td>\n",
       "      <td>3.408000e+03</td>\n",
       "      <td>1.425000</td>\n",
       "      <td>1.750000</td>\n",
       "      <td>1.325000</td>\n",
       "      <td>14.750000</td>\n",
       "      <td>...</td>\n",
       "      <td>25.925000</td>\n",
       "      <td>9.406225e+04</td>\n",
       "      <td>3.564508e+05</td>\n",
       "      <td>3.446250e+03</td>\n",
       "      <td>1142.750000</td>\n",
       "      <td>1688.750000</td>\n",
       "      <td>456.500000</td>\n",
       "      <td>2372.000000</td>\n",
       "      <td>299.750000</td>\n",
       "      <td>2.958250e+03</td>\n",
       "    </tr>\n",
       "    <tr>\n",
       "      <th>50%</th>\n",
       "      <td>16.250000</td>\n",
       "      <td>21.300000</td>\n",
       "      <td>5.700000</td>\n",
       "      <td>24.050000</td>\n",
       "      <td>86.500000</td>\n",
       "      <td>1.241650e+04</td>\n",
       "      <td>2.450000</td>\n",
       "      <td>4.700000</td>\n",
       "      <td>2.400000</td>\n",
       "      <td>25.900000</td>\n",
       "      <td>...</td>\n",
       "      <td>104.650000</td>\n",
       "      <td>3.351290e+05</td>\n",
       "      <td>1.859337e+06</td>\n",
       "      <td>1.361300e+04</td>\n",
       "      <td>4537.000000</td>\n",
       "      <td>7115.500000</td>\n",
       "      <td>3197.500000</td>\n",
       "      <td>10390.000000</td>\n",
       "      <td>1279.000000</td>\n",
       "      <td>1.148900e+04</td>\n",
       "    </tr>\n",
       "    <tr>\n",
       "      <th>75%</th>\n",
       "      <td>22.725000</td>\n",
       "      <td>25.725000</td>\n",
       "      <td>6.800000</td>\n",
       "      <td>35.175000</td>\n",
       "      <td>90.150000</td>\n",
       "      <td>4.533950e+04</td>\n",
       "      <td>3.200000</td>\n",
       "      <td>8.725000</td>\n",
       "      <td>4.425000</td>\n",
       "      <td>45.300000</td>\n",
       "      <td>...</td>\n",
       "      <td>334.925000</td>\n",
       "      <td>1.303118e+06</td>\n",
       "      <td>6.904088e+06</td>\n",
       "      <td>4.902975e+04</td>\n",
       "      <td>18351.500000</td>\n",
       "      <td>24373.250000</td>\n",
       "      <td>18689.250000</td>\n",
       "      <td>27282.750000</td>\n",
       "      <td>3689.750000</td>\n",
       "      <td>4.320300e+04</td>\n",
       "    </tr>\n",
       "    <tr>\n",
       "      <th>max</th>\n",
       "      <td>32.000000</td>\n",
       "      <td>30.500000</td>\n",
       "      <td>8.000000</td>\n",
       "      <td>59.500000</td>\n",
       "      <td>95.100000</td>\n",
       "      <td>1.107080e+06</td>\n",
       "      <td>25.700000</td>\n",
       "      <td>39.000000</td>\n",
       "      <td>14.800000</td>\n",
       "      <td>85.000000</td>\n",
       "      <td>...</td>\n",
       "      <td>17179.100000</td>\n",
       "      <td>2.296514e+07</td>\n",
       "      <td>1.213894e+08</td>\n",
       "      <td>1.146701e+06</td>\n",
       "      <td>439513.000000</td>\n",
       "      <td>601676.000000</td>\n",
       "      <td>631218.000000</td>\n",
       "      <td>481643.000000</td>\n",
       "      <td>69608.000000</td>\n",
       "      <td>1.044750e+06</td>\n",
       "    </tr>\n",
       "  </tbody>\n",
       "</table>\n",
       "<p>8 rows × 41 columns</p>\n",
       "</div>"
      ],
      "text/plain": [
       "       Age.Percent 65 and Older  Age.Percent Under 18 Years  \\\n",
       "count                 58.000000                   58.000000   \n",
       "mean                  18.465517                   21.862069   \n",
       "std                    5.700032                    4.089088   \n",
       "min                   10.500000                   13.400000   \n",
       "25%                   14.150000                   19.075000   \n",
       "50%                   16.250000                   21.300000   \n",
       "75%                   22.725000                   25.725000   \n",
       "max                   32.000000                   30.500000   \n",
       "\n",
       "       Age.Percent Under 5 Years  Education.Bachelor's Degree or Higher  \\\n",
       "count                  58.000000                              58.000000   \n",
       "mean                    5.765517                              27.291379   \n",
       "std                     1.120080                              11.975359   \n",
       "min                     4.100000                              12.900000   \n",
       "25%                     4.800000                              17.300000   \n",
       "50%                     5.700000                              24.050000   \n",
       "75%                     6.800000                              35.175000   \n",
       "max                     8.000000                              59.500000   \n",
       "\n",
       "       Education.High School or Higher  Employment.Nonemployer Establishments  \\\n",
       "count                        58.000000                           5.800000e+01   \n",
       "mean                         84.687931                           5.954774e+04   \n",
       "std                           7.138138                           1.552109e+05   \n",
       "min                          69.100000                           1.050000e+02   \n",
       "25%                          80.025000                           3.408000e+03   \n",
       "50%                          86.500000                           1.241650e+04   \n",
       "75%                          90.150000                           4.533950e+04   \n",
       "max                          95.100000                           1.107080e+06   \n",
       "\n",
       "       Ethnicities.American Indian and Alaska Native Alone  \\\n",
       "count                                          58.000000     \n",
       "mean                                            3.244828     \n",
       "std                                             3.691345     \n",
       "min                                             0.700000     \n",
       "25%                                             1.425000     \n",
       "50%                                             2.450000     \n",
       "75%                                             3.200000     \n",
       "max                                            25.700000     \n",
       "\n",
       "       Ethnicities.Asian Alone  Ethnicities.Black Alone  \\\n",
       "count                58.000000                58.000000   \n",
       "mean                  8.058621                 3.594828   \n",
       "std                   8.999474                 3.185572   \n",
       "min                   0.900000                 0.400000   \n",
       "25%                   1.750000                 1.325000   \n",
       "50%                   4.700000                 2.400000   \n",
       "75%                   8.725000                 4.425000   \n",
       "max                  39.000000                14.800000   \n",
       "\n",
       "       Ethnicities.Hispanic or Latino  ...  \\\n",
       "count                       58.000000  ...   \n",
       "mean                        31.218966  ...   \n",
       "std                         18.275623  ...   \n",
       "min                          7.400000  ...   \n",
       "25%                         14.750000  ...   \n",
       "50%                         25.900000  ...   \n",
       "75%                         45.300000  ...   \n",
       "max                         85.000000  ...   \n",
       "\n",
       "       Population.Population per Square Mile  \\\n",
       "count                              58.000000   \n",
       "mean                              663.251724   \n",
       "std                              2314.754632   \n",
       "min                                 1.600000   \n",
       "25%                                25.925000   \n",
       "50%                               104.650000   \n",
       "75%                               334.925000   \n",
       "max                             17179.100000   \n",
       "\n",
       "       Sales.Accommodation and Food Services Sales  Sales.Retail Sales  \\\n",
       "count                                 5.800000e+01        5.800000e+01   \n",
       "mean                                  1.565230e+06        8.306904e+06   \n",
       "std                                   3.541060e+06        1.825140e+07   \n",
       "min                                  -1.000000e+00        5.760000e+02   \n",
       "25%                                   9.406225e+04        3.564508e+05   \n",
       "50%                                   3.351290e+05        1.859337e+06   \n",
       "75%                                   1.303118e+06        6.904088e+06   \n",
       "max                                   2.296514e+07        1.213894e+08   \n",
       "\n",
       "       Employment.Firms.Total  Employment.Firms.Women-Owned  \\\n",
       "count            5.800000e+01                     58.000000   \n",
       "mean             6.184531e+04                  22788.706897   \n",
       "std              1.605222e+05                  61022.345028   \n",
       "min              1.250000e+02                     49.000000   \n",
       "25%              3.446250e+03                   1142.750000   \n",
       "50%              1.361300e+04                   4537.000000   \n",
       "75%              4.902975e+04                  18351.500000   \n",
       "max              1.146701e+06                 439513.000000   \n",
       "\n",
       "       Employment.Firms.Men-Owned  Employment.Firms.Minority-Owned  \\\n",
       "count                   58.000000                        58.000000   \n",
       "mean                 32170.068966                     27967.982759   \n",
       "std                  84271.975619                     86366.034862   \n",
       "min                      0.000000                         0.000000   \n",
       "25%                   1688.750000                       456.500000   \n",
       "50%                   7115.500000                      3197.500000   \n",
       "75%                  24373.250000                     18689.250000   \n",
       "max                 601676.000000                    631218.000000   \n",
       "\n",
       "       Employment.Firms.Nonminority-Owned  Employment.Firms.Veteran-Owned  \\\n",
       "count                           58.000000                       58.000000   \n",
       "mean                         31607.068966                     4381.172414   \n",
       "std                          70396.796561                    10073.913299   \n",
       "min                            115.000000                        0.000000   \n",
       "25%                           2372.000000                      299.750000   \n",
       "50%                          10390.000000                     1279.000000   \n",
       "75%                          27282.750000                     3689.750000   \n",
       "max                         481643.000000                    69608.000000   \n",
       "\n",
       "       Employment.Firms.Nonveteran-Owned  \n",
       "count                       5.800000e+01  \n",
       "mean                        5.501450e+04  \n",
       "std                         1.457251e+05  \n",
       "min                         1.160000e+02  \n",
       "25%                         2.958250e+03  \n",
       "50%                         1.148900e+04  \n",
       "75%                         4.320300e+04  \n",
       "max                         1.044750e+06  \n",
       "\n",
       "[8 rows x 41 columns]"
      ]
     },
     "execution_count": 16,
     "metadata": {},
     "output_type": "execute_result"
    }
   ],
   "source": [
    "CA_demo.describe()"
   ]
  },
  {
   "cell_type": "code",
   "execution_count": 17,
   "id": "c62cea56-0eae-4687-a2e5-761719bfa75a",
   "metadata": {},
   "outputs": [
    {
     "name": "stdout",
     "output_type": "stream",
     "text": [
      "Index(['County', 'State', 'Age.Percent 65 and Older',\n",
      "       'Age.Percent Under 18 Years', 'Age.Percent Under 5 Years',\n",
      "       'Education.Bachelor's Degree or Higher',\n",
      "       'Education.High School or Higher',\n",
      "       'Employment.Nonemployer Establishments',\n",
      "       'Ethnicities.American Indian and Alaska Native Alone',\n",
      "       'Ethnicities.Asian Alone', 'Ethnicities.Black Alone',\n",
      "       'Ethnicities.Hispanic or Latino',\n",
      "       'Ethnicities.Native Hawaiian and Other Pacific Islander Alone',\n",
      "       'Ethnicities.Two or More Races', 'Ethnicities.White Alone',\n",
      "       'Ethnicities.White Alone\\t not Hispanic or Latino',\n",
      "       'Housing.Homeownership Rate', 'Housing.Households',\n",
      "       'Housing.Housing Units', 'Housing.Median Value of Owner-Occupied Units',\n",
      "       'Housing.Persons per Household', 'Income.Median Houseold Income',\n",
      "       'Income.Per Capita Income', 'Miscellaneous.Foreign Born',\n",
      "       'Miscellaneous.Land Area',\n",
      "       'Miscellaneous.Language Other than English at Home',\n",
      "       'Miscellaneous.Living in Same House +1 Years',\n",
      "       'Miscellaneous.Manufacturers Shipments',\n",
      "       'Miscellaneous.Mean Travel Time to Work',\n",
      "       'Miscellaneous.Percent Female', 'Miscellaneous.Veterans',\n",
      "       'Population.2020 Population', 'Population.2010 Population',\n",
      "       'Population.Population per Square Mile',\n",
      "       'Sales.Accommodation and Food Services Sales', 'Sales.Retail Sales',\n",
      "       'Employment.Firms.Total', 'Employment.Firms.Women-Owned',\n",
      "       'Employment.Firms.Men-Owned', 'Employment.Firms.Minority-Owned',\n",
      "       'Employment.Firms.Nonminority-Owned', 'Employment.Firms.Veteran-Owned',\n",
      "       'Employment.Firms.Nonveteran-Owned'],\n",
      "      dtype='object')\n"
     ]
    }
   ],
   "source": [
    "print(CA_demo.columns)"
   ]
  },
  {
   "cell_type": "markdown",
   "id": "6e767106-ac3c-40eb-a17e-33d53e1bf203",
   "metadata": {},
   "source": [
    "Choose a numerical column (which I'll call COL1) and calculate the mean, median, mode, and trimmed mean."
   ]
  },
  {
   "cell_type": "code",
   "execution_count": 18,
   "id": "cdcdbcff-8786-4dff-a957-a227a4dbdd6b",
   "metadata": {},
   "outputs": [
    {
     "data": {
      "text/plain": [
       "62.1448275862069"
      ]
     },
     "execution_count": 18,
     "metadata": {},
     "output_type": "execute_result"
    }
   ],
   "source": [
    "CA_demo['Housing.Homeownership Rate'].mean()"
   ]
  },
  {
   "cell_type": "code",
   "execution_count": 19,
   "id": "46ffbe44-b754-457e-971b-83104dff8b4b",
   "metadata": {},
   "outputs": [
    {
     "data": {
      "text/plain": [
       "61.5"
      ]
     },
     "execution_count": 19,
     "metadata": {},
     "output_type": "execute_result"
    }
   ],
   "source": [
    "CA_demo['Housing.Homeownership Rate'].median()"
   ]
  },
  {
   "cell_type": "code",
   "execution_count": 20,
   "id": "3f989104-8bd4-4a3b-bb3b-3f05241e3f41",
   "metadata": {},
   "outputs": [
    {
     "data": {
      "text/plain": [
       "0    53.3\n",
       "1    56.4\n",
       "2    58.3\n",
       "3    61.5\n",
       "4    63.7\n",
       "Name: Housing.Homeownership Rate, dtype: float64"
      ]
     },
     "execution_count": 20,
     "metadata": {},
     "output_type": "execute_result"
    }
   ],
   "source": [
    "CA_demo['Housing.Homeownership Rate'].mode()"
   ]
  },
  {
   "cell_type": "code",
   "execution_count": 21,
   "id": "b62e90b3-8ddd-474d-9167-103759bb7e19",
   "metadata": {},
   "outputs": [
    {
     "data": {
      "text/plain": [
       "61.74468085106384"
      ]
     },
     "execution_count": 21,
     "metadata": {},
     "output_type": "execute_result"
    }
   ],
   "source": [
    "#calculate 10% trimmed mean on homeownership rates\n",
    "CA_demo = CA_demo.sort_values(by='Housing.Homeownership Rate',ignore_index=True)\n",
    "CA_demo.loc[int(0.1*57):int(0.9*57),'Housing.Homeownership Rate'].mean()"
   ]
  },
  {
   "cell_type": "markdown",
   "id": "04b8b0bc-0317-4635-a91b-6a88732308ab",
   "metadata": {},
   "source": [
    "Plot a histogram of COL1 data and comment on the relative locations of the \n",
    "mean, median, mode, and trimmed mean."
   ]
  },
  {
   "cell_type": "code",
   "execution_count": 22,
   "id": "94bf5925-ce39-483f-b25b-cb82371cf047",
   "metadata": {},
   "outputs": [
    {
     "name": "stdout",
     "output_type": "stream",
     "text": [
      "Trimmed Mean:  61.74468085106384\n",
      "Mean:  62.1448275862069\n",
      "Median:  61.5\n",
      "Mode:  0    53.3\n",
      "1    56.4\n",
      "2    58.3\n",
      "3    61.5\n",
      "4    63.7\n",
      "Name: Housing.Homeownership Rate, dtype: float64\n"
     ]
    },
    {
     "data": {
      "image/png": "[encoded data removed]",
      "text/plain": [
       "<Figure size 432x288 with 1 Axes>"
      ]
     },
     "metadata": {
      "needs_background": "light"
     },
     "output_type": "display_data"
    }
   ],
   "source": [
    "CA_demo['Housing.Homeownership Rate'].plot(kind='hist')\n",
    "print('Trimmed Mean: ',CA_demo.loc[int(0.1*57):int(0.9*57),'Housing.Homeownership Rate'].mean())\n",
    "print('Mean: ',CA_demo['Housing.Homeownership Rate'].mean())\n",
    "print('Median: ',CA_demo['Housing.Homeownership Rate'].median())\n",
    "print('Mode: ',CA_demo['Housing.Homeownership Rate'].mode())"
   ]
  },
  {
   "cell_type": "markdown",
   "id": "34bd603f-a8bd-4d02-a58f-81e32bbeac6e",
   "metadata": {
    "tags": []
   },
   "source": [
    "Calculate the mean absolute deviation, the standard deviation, \n",
    "and the interquartile range (the difference of the 75% and 25% quantile)"
   ]
  },
  {
   "cell_type": "code",
   "execution_count": 23,
   "id": "b60d44fc-1cf9-4363-8f91-410df6051bc7",
   "metadata": {},
   "outputs": [
    {
     "data": {
      "text/plain": [
       "6.430677764565995"
      ]
     },
     "execution_count": 23,
     "metadata": {},
     "output_type": "execute_result"
    }
   ],
   "source": [
    "CA_demo[\"Housing.Homeownership Rate\"].mad()"
   ]
  },
  {
   "cell_type": "code",
   "execution_count": 24,
   "id": "b7feb952-e849-4b51-9939-6d33ac1470ca",
   "metadata": {},
   "outputs": [
    {
     "data": {
      "text/plain": [
       "8.401987492813893"
      ]
     },
     "execution_count": 24,
     "metadata": {},
     "output_type": "execute_result"
    }
   ],
   "source": [
    "CA_demo[\"Housing.Homeownership Rate\"].std()"
   ]
  },
  {
   "cell_type": "code",
   "execution_count": 25,
   "id": "7ef5b754-53b5-4487-b0c4-55b35a230f4e",
   "metadata": {},
   "outputs": [
    {
     "data": {
      "text/plain": [
       "count    58.000000\n",
       "mean     62.144828\n",
       "std       8.401987\n",
       "min      37.600000\n",
       "25%      57.175000\n",
       "50%      61.500000\n",
       "75%      66.200000\n",
       "max      84.000000\n",
       "Name: Housing.Homeownership Rate, dtype: float64"
      ]
     },
     "execution_count": 25,
     "metadata": {},
     "output_type": "execute_result"
    }
   ],
   "source": [
    "CA_demo[\"Housing.Homeownership Rate\"].describe()"
   ]
  },
  {
   "cell_type": "code",
   "execution_count": 26,
   "id": "ac9909be-079b-4f86-982f-6cfa690f8ca8",
   "metadata": {},
   "outputs": [],
   "source": [
    "q3, q1 = np.percentile(CA_demo[\"Housing.Homeownership Rate\"], [75 ,25])\n",
    "iqr = q3 - q1"
   ]
  },
  {
   "cell_type": "code",
   "execution_count": 27,
   "id": "32788a1d-3cef-4111-bc9d-aba11b32380f",
   "metadata": {},
   "outputs": [
    {
     "data": {
      "text/plain": [
       "(57.175, 66.2, 9.025000000000006)"
      ]
     },
     "execution_count": 27,
     "metadata": {},
     "output_type": "execute_result"
    }
   ],
   "source": [
    "q1, q3, iqr"
   ]
  },
  {
   "cell_type": "markdown",
   "id": "2e52fb87-70c2-4825-a8e1-3378d655e3ff",
   "metadata": {},
   "source": [
    "Plot a box plot of COL1"
   ]
  },
  {
   "cell_type": "code",
   "execution_count": 28,
   "id": "7b1bfcaf-3089-44cb-8134-791e648326da",
   "metadata": {},
   "outputs": [
    {
     "data": {
      "text/plain": [
       "<AxesSubplot:>"
      ]
     },
     "execution_count": 28,
     "metadata": {},
     "output_type": "execute_result"
    },
    {
     "data": {
      "image/png": "[encoded data removed]",
      "text/plain": [
       "<Figure size 432x288 with 1 Axes>"
      ]
     },
     "metadata": {
      "needs_background": "light"
     },
     "output_type": "display_data"
    }
   ],
   "source": [
    "CA_demo.boxplot(column=['Housing.Homeownership Rate'])"
   ]
  },
  {
   "cell_type": "markdown",
   "id": "dea96ab9-d2fc-469e-a8d2-983070e1821e",
   "metadata": {},
   "source": [
    "Comment on how the locations of the calculated median and the 25% and 75% quantiles match with features in the plot"
   ]
  },
  {
   "cell_type": "code",
   "execution_count": null,
   "id": "bcb46fa6-5a25-44b5-89cf-608a91c10450",
   "metadata": {},
   "outputs": [],
   "source": [
    "# The locations of the calculated median (61.5), lower quartile (57.175), and higher quartile (66.2) \n",
    "# all match with the features in the box plot."
   ]
  },
  {
   "cell_type": "markdown",
   "id": "b602c05d-f814-4a32-84b5-c1b26fbc3193",
   "metadata": {},
   "source": [
    "Make a new column in your dataframe called \"COL1_mean_split\"\n",
    "* The values in the \"COL1_mean_split\" column should be equal to either 0, 1, or 2. For any given row:\n",
    "    * If the COL1 value < 0.5 * (COL1 mean), set the COL1_mean_split value to 0\n",
    "    * If the COL1 value >= 0.5 * (COL1 mean) and COL1 value < (COL1 mean), set the COL1_mean_split value to 1\n",
    "    * If the COL1 value >= (COL1 mean), set the COL1_mean_split value to 2\n"
   ]
  },
  {
   "cell_type": "code",
   "execution_count": 29,
   "id": "c3f37745-c08d-4a58-bfa0-42c1745b2e71",
   "metadata": {},
   "outputs": [],
   "source": [
    "CA_demo.loc[(CA_demo['Housing.Homeownership Rate'] < 0.5 * 62.14482758620691),\n",
    "       'COL1_mean_split'] = 0 # then set COL1_mean_split to 0\n",
    "CA_demo.loc[(CA_demo['Housing.Homeownership Rate'] >= 0.5 * 62.14482758620691) & \n",
    "       (CA_demo[\"Housing.Homeownership Rate\"] < 62.14482758620691),\n",
    "       'COL1_mean_split'] = 1 # then set COL1_mean_split to 1\n",
    "CA_demo.loc[(CA_demo['Housing.Homeownership Rate'] >= 62.14482758620691),\n",
    "       'COL1_mean_split'] = 2 # then set COL1_mean_split to 2"
   ]
  },
  {
   "cell_type": "code",
   "execution_count": 30,
   "id": "95154999-631d-4f75-9070-f095d094aa44",
   "metadata": {},
   "outputs": [
    {
     "data": {
      "text/plain": [
       "0     1.0\n",
       "1     1.0\n",
       "2     1.0\n",
       "3     1.0\n",
       "4     1.0\n",
       "5     1.0\n",
       "6     1.0\n",
       "7     1.0\n",
       "8     1.0\n",
       "9     1.0\n",
       "10    1.0\n",
       "11    1.0\n",
       "12    1.0\n",
       "13    1.0\n",
       "14    1.0\n",
       "15    1.0\n",
       "16    1.0\n",
       "17    1.0\n",
       "18    1.0\n",
       "19    1.0\n",
       "20    1.0\n",
       "21    1.0\n",
       "22    1.0\n",
       "23    1.0\n",
       "24    1.0\n",
       "25    1.0\n",
       "26    1.0\n",
       "27    1.0\n",
       "28    1.0\n",
       "29    1.0\n",
       "30    1.0\n",
       "31    2.0\n",
       "32    2.0\n",
       "33    2.0\n",
       "34    2.0\n",
       "35    2.0\n",
       "36    2.0\n",
       "37    2.0\n",
       "38    2.0\n",
       "39    2.0\n",
       "40    2.0\n",
       "41    2.0\n",
       "42    2.0\n",
       "43    2.0\n",
       "44    2.0\n",
       "45    2.0\n",
       "46    2.0\n",
       "47    2.0\n",
       "48    2.0\n",
       "49    2.0\n",
       "50    2.0\n",
       "51    2.0\n",
       "52    2.0\n",
       "53    2.0\n",
       "54    2.0\n",
       "55    2.0\n",
       "56    2.0\n",
       "57    2.0\n",
       "Name: COL1_mean_split, dtype: float64"
      ]
     },
     "execution_count": 30,
     "metadata": {},
     "output_type": "execute_result"
    }
   ],
   "source": [
    "CA_demo[\"COL1_mean_split\"]"
   ]
  },
  {
   "cell_type": "markdown",
   "id": "f95e9c90-336c-426d-ad7d-1d988acb890a",
   "metadata": {},
   "source": [
    "Note: None of the records in the dataframe have values of \"0\" for the \"COL1_mean_split\". None of the counties in CA meet this condition."
   ]
  },
  {
   "cell_type": "markdown",
   "id": "53a555eb-9979-4c10-8486-8bd74b047c91",
   "metadata": {},
   "source": [
    "Make a bar plot showing the count of the values of 0, 1, and 2 in the COL1_mean_split column"
   ]
  },
  {
   "cell_type": "code",
   "execution_count": 32,
   "id": "011894ea-e829-4941-8b84-a6852178aec5",
   "metadata": {},
   "outputs": [
    {
     "data": {
      "text/plain": [
       "<AxesSubplot:ylabel='Frequency'>"
      ]
     },
     "execution_count": 32,
     "metadata": {},
     "output_type": "execute_result"
    },
    {
     "data": {
      "image/png": "[encoded data removed]",
      "text/plain": [
       "<Figure size 432x288 with 1 Axes>"
      ]
     },
     "metadata": {
      "needs_background": "light"
     },
     "output_type": "display_data"
    }
   ],
   "source": [
    "CA_demo['COL1_mean_split'].plot(kind='hist')"
   ]
  },
  {
   "cell_type": "markdown",
   "id": "3daba218-1f43-4312-8fac-d594511e9cde",
   "metadata": {},
   "source": [
    "Make another box plot of the COL1 values grouped by COL1_mean_split values\n",
    "* There should be three boxes in the plot, one for each group of rows corresponding to COL1_mean_split values of 0, 1, or 2"
   ]
  },
  {
   "cell_type": "code",
   "execution_count": 33,
   "id": "6413cdd5-1ad0-4bd1-8b1b-37df0d721fdf",
   "metadata": {},
   "outputs": [
    {
     "data": {
      "text/plain": [
       "<AxesSubplot:title={'center':'Housing.Homeownership Rate'}, xlabel='COL1_mean_split'>"
      ]
     },
     "execution_count": 33,
     "metadata": {},
     "output_type": "execute_result"
    },
    {
     "data": {
      "image/png": "[encoded data removed]",
      "text/plain": [
       "<Figure size 432x288 with 1 Axes>"
      ]
     },
     "metadata": {
      "needs_background": "light"
     },
     "output_type": "display_data"
    }
   ],
   "source": [
    "CA_demo.boxplot(column=['Housing.Homeownership Rate'], by='COL1_mean_split')"
   ]
  },
  {
   "cell_type": "markdown",
   "id": "2444bc44-e63e-485a-8c35-e90459b6a6d5",
   "metadata": {},
   "source": [
    "Choose another numerical column (COL3)\n",
    "* Calculate the correlation between COL1 and COL3\n",
    "* Make a scatter plot of COL1 vs COL3 and comment on whether the calculated correlation value makes sense.\n",
    "* Make a hexagonal binning plot of COL1 vs COL3\n"
   ]
  },
  {
   "cell_type": "code",
   "execution_count": null,
   "id": "ef40c0c7-093b-4a3e-b455-e4b40db983ff",
   "metadata": {},
   "outputs": [],
   "source": [
    "#CA_demo[['Housing.Homeownership Rate','Income.Median Houseold Income', \"Education.Bachelor's Degree or Higher\", 'Ethnicities.Black Alone','Age.Percent 65 and Older', 'Housing.Median Value of Owner-Occupied Units']].corr()"
   ]
  },
  {
   "cell_type": "code",
   "execution_count": 34,
   "id": "eae498dc-ecd8-4c33-845e-fde5d5861097",
   "metadata": {},
   "outputs": [
    {
     "data": {
      "text/html": [
       "<div>\n",
       "<style scoped>\n",
       "    .dataframe tbody tr th:only-of-type {\n",
       "        vertical-align: middle;\n",
       "    }\n",
       "\n",
       "    .dataframe tbody tr th {\n",
       "        vertical-align: top;\n",
       "    }\n",
       "\n",
       "    .dataframe thead th {\n",
       "        text-align: right;\n",
       "    }\n",
       "</style>\n",
       "<table border=\"1\" class=\"dataframe\">\n",
       "  <thead>\n",
       "    <tr style=\"text-align: right;\">\n",
       "      <th></th>\n",
       "      <th>Housing.Homeownership Rate</th>\n",
       "      <th>Housing.Median Value of Owner-Occupied Units</th>\n",
       "    </tr>\n",
       "  </thead>\n",
       "  <tbody>\n",
       "    <tr>\n",
       "      <th>Housing.Homeownership Rate</th>\n",
       "      <td>1.000000</td>\n",
       "      <td>-0.336946</td>\n",
       "    </tr>\n",
       "    <tr>\n",
       "      <th>Housing.Median Value of Owner-Occupied Units</th>\n",
       "      <td>-0.336946</td>\n",
       "      <td>1.000000</td>\n",
       "    </tr>\n",
       "  </tbody>\n",
       "</table>\n",
       "</div>"
      ],
      "text/plain": [
       "                                              Housing.Homeownership Rate  \\\n",
       "Housing.Homeownership Rate                                      1.000000   \n",
       "Housing.Median Value of Owner-Occupied Units                   -0.336946   \n",
       "\n",
       "                                              Housing.Median Value of Owner-Occupied Units  \n",
       "Housing.Homeownership Rate                                                       -0.336946  \n",
       "Housing.Median Value of Owner-Occupied Units                                      1.000000  "
      ]
     },
     "execution_count": 34,
     "metadata": {},
     "output_type": "execute_result"
    }
   ],
   "source": [
    "CA_demo[['Housing.Homeownership Rate','Housing.Median Value of Owner-Occupied Units']].corr()"
   ]
  },
  {
   "cell_type": "code",
   "execution_count": 35,
   "id": "3516bec2-42fa-4be4-8e90-ad2d93205c8c",
   "metadata": {},
   "outputs": [
    {
     "data": {
      "text/plain": [
       "<AxesSubplot:xlabel='Housing.Median Value of Owner-Occupied Units', ylabel='Housing.Homeownership Rate'>"
      ]
     },
     "execution_count": 35,
     "metadata": {},
     "output_type": "execute_result"
    },
    {
     "data": {
      "image/png": "[encoded data removed]",
      "text/plain": [
       "<Figure size 432x288 with 1 Axes>"
      ]
     },
     "metadata": {
      "needs_background": "light"
     },
     "output_type": "display_data"
    }
   ],
   "source": [
    "CA_demo.plot(kind='scatter',\n",
    "        x='Housing.Median Value of Owner-Occupied Units',\n",
    "        y= 'Housing.Homeownership Rate')"
   ]
  },
  {
   "cell_type": "markdown",
   "id": "144f9a14-4542-42f8-bfe5-fe5fe8e095c9",
   "metadata": {},
   "source": [
    "The calculated correlation value (-0.337) makes sense, given how the data is displayed in the scatterplot. \n",
    "The relationship between two variables, median home value and homeownership rates, move in the opposite direction. \n",
    "The higher the home value, the lower the county's homeownership rate. "
   ]
  },
  {
   "cell_type": "code",
   "execution_count": 36,
   "id": "3a6098d2-2d45-4507-9a62-ed0f8093dcf9",
   "metadata": {},
   "outputs": [
    {
     "data": {
      "text/plain": [
       "<AxesSubplot:xlabel='Housing.Median Value of Owner-Occupied Units', ylabel='Housing.Homeownership Rate'>"
      ]
     },
     "execution_count": 36,
     "metadata": {},
     "output_type": "execute_result"
    },
    {
     "data": {
      "image/png": "[encoded data removed]",
      "text/plain": [
       "<Figure size 432x288 with 2 Axes>"
      ]
     },
     "metadata": {
      "needs_background": "light"
     },
     "output_type": "display_data"
    }
   ],
   "source": [
    "CA_demo.plot(kind='hexbin', cmap='gist_stern_r',\n",
    "        x='Housing.Median Value of Owner-Occupied Units',\n",
    "        y='Housing.Homeownership Rate')"
   ]
  },
  {
   "cell_type": "code",
   "execution_count": null,
   "id": "a0797e23-1b03-43fc-bc69-7676734346bf",
   "metadata": {},
   "outputs": [],
   "source": []
  }
 ],
 "metadata": {
  "kernelspec": {
   "display_name": "Python 3 (ipykernel)",
   "language": "python",
   "name": "python3"
  },
  "language_info": {
   "codemirror_mode": {
    "name": "ipython",
    "version": 3
   },
   "file_extension": ".py",
   "mimetype": "text/x-python",
   "name": "python",
   "nbconvert_exporter": "python",
   "pygments_lexer": "ipython3",
   "version": "3.9.13"
  }
 },
 "nbformat": 4,
 "nbformat_minor": 5
}
