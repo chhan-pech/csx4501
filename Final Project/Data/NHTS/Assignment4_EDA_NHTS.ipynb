{
 "cells": [
  {
   "cell_type": "markdown",
   "id": "757cb093-95de-45c6-9f7a-4397dc36729a",
   "metadata": {},
   "source": [
    "## Python and Travel"
   ]
  },
  {
   "cell_type": "markdown",
   "id": "0a1496ab-098b-42ef-8874-28e82d70c091",
   "metadata": {},
   "source": [
    "This Python program pulls in a travel survey dataset called the **[National Household Travel Survey (NHTS)](https://nhts.ornl.gov/)**\n",
    "    \n",
    "\"Conducted by the Federal Highway Administration, the NHTS is the authoritative source on the travel behavior of the American public. It is the only source of national data that allows one to analyze trends in personal and household travel. It includes daily non-commercial travel by all modes, including characteristics of the people traveling, their household, and their vehicles.\"\n",
    "    \n",
    "**Types of Data Files** – There are four data files that are part of the NHTS dataset. The four files are the:\n",
    "*   **Household File** – data collected once for the household (one record per household);\n",
    "*   **Person File** – data items collected once for each interviewed household member (one\n",
    "    record for each household member);\n",
    "*   **Vehicle File** – data items related to the household ’s vehicles (one record for each\n",
    "    household vehicle); and\n",
    "*   **Travel Day Trip File** – data items collected for each trip made by each household\n",
    "    member age 5+ on the household’s travel day (one record for each trip each person age\n",
    "    5+ made).\n",
    "       \n",
    "For more information see **[Users' Guide](https://nhts.ornl.gov/assets/NHTS2017_UsersGuide_04232019_1.pdf/)** and **[Codebook](https://nhts.ornl.gov/assets/codebook_v1.2.pdf).**"
   ]
  },
  {
   "cell_type": "markdown",
   "id": "b7dcc7ea-b550-451f-801c-72c13ee6ba41",
   "metadata": {},
   "source": [
    "# Exploratory Data Analysis with Python"
   ]
  },
  {
   "cell_type": "markdown",
   "id": "477d6eca-d7b3-44ae-b2b2-81efc23895b9",
   "metadata": {},
   "source": [
    "Import modules to use Pandas and Matplotlib"
   ]
  },
  {
   "cell_type": "code",
   "execution_count": 1,
   "id": "8ae00620-38f1-47a6-8bbf-66a84fe451da",
   "metadata": {},
   "outputs": [],
   "source": [
    "import pandas as pd\n",
    "import matplotlib.pyplot as plt"
   ]
  },
  {
   "cell_type": "markdown",
   "id": "b2188eaa-0e6a-4ca0-a3d5-ba8379da3b49",
   "metadata": {},
   "source": [
    "For this assignment, I will only look at the \"vehicles\" file.\n",
    "I will eventually look at all data files for the project (assuming I stick with this dataset)."
   ]
  },
  {
   "cell_type": "code",
   "execution_count": 3,
   "id": "a78a72d7-9b58-4f6b-b7b6-17ce03872d09",
   "metadata": {},
   "outputs": [],
   "source": [
    "# Import the data. \n",
    "veh = pd.read_csv('vehpub.csv') #vehicle file\n",
    "#per = pd.read_csv('NHTS/perpub.csv') #person file\n",
    "#hh = pd.read_csv('NHTS/hhpub.csv') #household file"
   ]
  },
  {
   "cell_type": "markdown",
   "id": "ef592321-eb18-4787-90eb-aea0f447cf51",
   "metadata": {},
   "source": [
    "Look at the data"
   ]
  },
  {
   "cell_type": "code",
   "execution_count": 4,
   "id": "91e45cbb-351d-4bb4-a16e-04bff3d026e1",
   "metadata": {},
   "outputs": [
    {
     "data": {
      "text/html": [
       "<div>\n",
       "<style scoped>\n",
       "    .dataframe tbody tr th:only-of-type {\n",
       "        vertical-align: middle;\n",
       "    }\n",
       "\n",
       "    .dataframe tbody tr th {\n",
       "        vertical-align: top;\n",
       "    }\n",
       "\n",
       "    .dataframe thead th {\n",
       "        text-align: right;\n",
       "    }\n",
       "</style>\n",
       "<table border=\"1\" class=\"dataframe\">\n",
       "  <thead>\n",
       "    <tr style=\"text-align: right;\">\n",
       "      <th></th>\n",
       "      <th>HOUSEID</th>\n",
       "      <th>VEHID</th>\n",
       "      <th>VEHYEAR</th>\n",
       "      <th>VEHAGE</th>\n",
       "      <th>MAKE</th>\n",
       "      <th>MODEL</th>\n",
       "      <th>FUELTYPE</th>\n",
       "      <th>VEHTYPE</th>\n",
       "      <th>WHOMAIN</th>\n",
       "      <th>OD_READ</th>\n",
       "      <th>...</th>\n",
       "      <th>HTEEMPDN</th>\n",
       "      <th>HBHTNRNT</th>\n",
       "      <th>HBPPOPDN</th>\n",
       "      <th>HBRESDN</th>\n",
       "      <th>GSYRGAL</th>\n",
       "      <th>GSTOTCST</th>\n",
       "      <th>FEGEMPG</th>\n",
       "      <th>FEGEMPGA</th>\n",
       "      <th>GSCOST</th>\n",
       "      <th>FEGEMPGF</th>\n",
       "    </tr>\n",
       "  </thead>\n",
       "  <tbody>\n",
       "    <tr>\n",
       "      <th>0</th>\n",
       "      <td>30000007</td>\n",
       "      <td>1</td>\n",
       "      <td>2007</td>\n",
       "      <td>10</td>\n",
       "      <td>49</td>\n",
       "      <td>49032</td>\n",
       "      <td>1</td>\n",
       "      <td>1</td>\n",
       "      <td>3</td>\n",
       "      <td>69000</td>\n",
       "      <td>...</td>\n",
       "      <td>750</td>\n",
       "      <td>20</td>\n",
       "      <td>750</td>\n",
       "      <td>300</td>\n",
       "      <td>487.064221</td>\n",
       "      <td>1126.457778</td>\n",
       "      <td>30</td>\n",
       "      <td>-9</td>\n",
       "      <td>2.31275</td>\n",
       "      <td>1</td>\n",
       "    </tr>\n",
       "    <tr>\n",
       "      <th>1</th>\n",
       "      <td>30000007</td>\n",
       "      <td>2</td>\n",
       "      <td>2004</td>\n",
       "      <td>13</td>\n",
       "      <td>49</td>\n",
       "      <td>49442</td>\n",
       "      <td>1</td>\n",
       "      <td>2</td>\n",
       "      <td>-8</td>\n",
       "      <td>164000</td>\n",
       "      <td>...</td>\n",
       "      <td>750</td>\n",
       "      <td>20</td>\n",
       "      <td>750</td>\n",
       "      <td>300</td>\n",
       "      <td>250.899523</td>\n",
       "      <td>580.267873</td>\n",
       "      <td>19</td>\n",
       "      <td>-9</td>\n",
       "      <td>2.31275</td>\n",
       "      <td>1</td>\n",
       "    </tr>\n",
       "    <tr>\n",
       "      <th>2</th>\n",
       "      <td>30000007</td>\n",
       "      <td>3</td>\n",
       "      <td>1998</td>\n",
       "      <td>19</td>\n",
       "      <td>19</td>\n",
       "      <td>19014</td>\n",
       "      <td>1</td>\n",
       "      <td>1</td>\n",
       "      <td>1</td>\n",
       "      <td>120000</td>\n",
       "      <td>...</td>\n",
       "      <td>750</td>\n",
       "      <td>20</td>\n",
       "      <td>750</td>\n",
       "      <td>300</td>\n",
       "      <td>444.462475</td>\n",
       "      <td>1027.930589</td>\n",
       "      <td>18</td>\n",
       "      <td>-9</td>\n",
       "      <td>2.31275</td>\n",
       "      <td>1</td>\n",
       "    </tr>\n",
       "    <tr>\n",
       "      <th>3</th>\n",
       "      <td>30000007</td>\n",
       "      <td>4</td>\n",
       "      <td>1997</td>\n",
       "      <td>20</td>\n",
       "      <td>19</td>\n",
       "      <td>19021</td>\n",
       "      <td>1</td>\n",
       "      <td>1</td>\n",
       "      <td>2</td>\n",
       "      <td>-88</td>\n",
       "      <td>...</td>\n",
       "      <td>750</td>\n",
       "      <td>20</td>\n",
       "      <td>750</td>\n",
       "      <td>300</td>\n",
       "      <td>40.329575</td>\n",
       "      <td>93.272224</td>\n",
       "      <td>18</td>\n",
       "      <td>-9</td>\n",
       "      <td>2.31275</td>\n",
       "      <td>1</td>\n",
       "    </tr>\n",
       "    <tr>\n",
       "      <th>4</th>\n",
       "      <td>30000007</td>\n",
       "      <td>5</td>\n",
       "      <td>1993</td>\n",
       "      <td>24</td>\n",
       "      <td>20</td>\n",
       "      <td>20481</td>\n",
       "      <td>1</td>\n",
       "      <td>4</td>\n",
       "      <td>2</td>\n",
       "      <td>300000</td>\n",
       "      <td>...</td>\n",
       "      <td>750</td>\n",
       "      <td>20</td>\n",
       "      <td>750</td>\n",
       "      <td>300</td>\n",
       "      <td>888.404197</td>\n",
       "      <td>2054.656806</td>\n",
       "      <td>14</td>\n",
       "      <td>-9</td>\n",
       "      <td>2.31275</td>\n",
       "      <td>1</td>\n",
       "    </tr>\n",
       "    <tr>\n",
       "      <th>...</th>\n",
       "      <td>...</td>\n",
       "      <td>...</td>\n",
       "      <td>...</td>\n",
       "      <td>...</td>\n",
       "      <td>...</td>\n",
       "      <td>...</td>\n",
       "      <td>...</td>\n",
       "      <td>...</td>\n",
       "      <td>...</td>\n",
       "      <td>...</td>\n",
       "      <td>...</td>\n",
       "      <td>...</td>\n",
       "      <td>...</td>\n",
       "      <td>...</td>\n",
       "      <td>...</td>\n",
       "      <td>...</td>\n",
       "      <td>...</td>\n",
       "      <td>...</td>\n",
       "      <td>...</td>\n",
       "      <td>...</td>\n",
       "      <td>...</td>\n",
       "    </tr>\n",
       "    <tr>\n",
       "      <th>256110</th>\n",
       "      <td>40794301</td>\n",
       "      <td>1</td>\n",
       "      <td>2012</td>\n",
       "      <td>5</td>\n",
       "      <td>37</td>\n",
       "      <td>37441</td>\n",
       "      <td>1</td>\n",
       "      <td>2</td>\n",
       "      <td>1</td>\n",
       "      <td>60976</td>\n",
       "      <td>...</td>\n",
       "      <td>25</td>\n",
       "      <td>20</td>\n",
       "      <td>300</td>\n",
       "      <td>50</td>\n",
       "      <td>695.087896</td>\n",
       "      <td>1607.564532</td>\n",
       "      <td>22</td>\n",
       "      <td>-9</td>\n",
       "      <td>2.31275</td>\n",
       "      <td>1</td>\n",
       "    </tr>\n",
       "    <tr>\n",
       "      <th>256111</th>\n",
       "      <td>40794301</td>\n",
       "      <td>2</td>\n",
       "      <td>2005</td>\n",
       "      <td>12</td>\n",
       "      <td>49</td>\n",
       "      <td>49032</td>\n",
       "      <td>1</td>\n",
       "      <td>1</td>\n",
       "      <td>4</td>\n",
       "      <td>93388</td>\n",
       "      <td>...</td>\n",
       "      <td>25</td>\n",
       "      <td>20</td>\n",
       "      <td>300</td>\n",
       "      <td>50</td>\n",
       "      <td>518.977282</td>\n",
       "      <td>1200.264709</td>\n",
       "      <td>29</td>\n",
       "      <td>-9</td>\n",
       "      <td>2.31275</td>\n",
       "      <td>1</td>\n",
       "    </tr>\n",
       "    <tr>\n",
       "      <th>256112</th>\n",
       "      <td>40794301</td>\n",
       "      <td>3</td>\n",
       "      <td>1996</td>\n",
       "      <td>21</td>\n",
       "      <td>35</td>\n",
       "      <td>35443</td>\n",
       "      <td>1</td>\n",
       "      <td>2</td>\n",
       "      <td>3</td>\n",
       "      <td>143616</td>\n",
       "      <td>...</td>\n",
       "      <td>25</td>\n",
       "      <td>20</td>\n",
       "      <td>300</td>\n",
       "      <td>50</td>\n",
       "      <td>493.677419</td>\n",
       "      <td>1141.752451</td>\n",
       "      <td>18</td>\n",
       "      <td>-9</td>\n",
       "      <td>2.31275</td>\n",
       "      <td>1</td>\n",
       "    </tr>\n",
       "    <tr>\n",
       "      <th>256113</th>\n",
       "      <td>40794301</td>\n",
       "      <td>4</td>\n",
       "      <td>1991</td>\n",
       "      <td>26</td>\n",
       "      <td>49</td>\n",
       "      <td>49471</td>\n",
       "      <td>1</td>\n",
       "      <td>4</td>\n",
       "      <td>2</td>\n",
       "      <td>195078</td>\n",
       "      <td>...</td>\n",
       "      <td>25</td>\n",
       "      <td>20</td>\n",
       "      <td>300</td>\n",
       "      <td>50</td>\n",
       "      <td>387.809394</td>\n",
       "      <td>896.906177</td>\n",
       "      <td>20</td>\n",
       "      <td>-9</td>\n",
       "      <td>2.31275</td>\n",
       "      <td>2</td>\n",
       "    </tr>\n",
       "    <tr>\n",
       "      <th>256114</th>\n",
       "      <td>40794301</td>\n",
       "      <td>5</td>\n",
       "      <td>1990</td>\n",
       "      <td>27</td>\n",
       "      <td>35</td>\n",
       "      <td>XXXXX</td>\n",
       "      <td>1</td>\n",
       "      <td>1</td>\n",
       "      <td>1</td>\n",
       "      <td>167141</td>\n",
       "      <td>...</td>\n",
       "      <td>25</td>\n",
       "      <td>20</td>\n",
       "      <td>300</td>\n",
       "      <td>50</td>\n",
       "      <td>627.764488</td>\n",
       "      <td>1451.862319</td>\n",
       "      <td>22</td>\n",
       "      <td>-9</td>\n",
       "      <td>2.31275</td>\n",
       "      <td>1</td>\n",
       "    </tr>\n",
       "  </tbody>\n",
       "</table>\n",
       "<p>256115 rows × 60 columns</p>\n",
       "</div>"
      ],
      "text/plain": [
       "         HOUSEID  VEHID  VEHYEAR  VEHAGE MAKE  MODEL  FUELTYPE  VEHTYPE  \\\n",
       "0       30000007      1     2007      10   49  49032         1        1   \n",
       "1       30000007      2     2004      13   49  49442         1        2   \n",
       "2       30000007      3     1998      19   19  19014         1        1   \n",
       "3       30000007      4     1997      20   19  19021         1        1   \n",
       "4       30000007      5     1993      24   20  20481         1        4   \n",
       "...          ...    ...      ...     ...  ...    ...       ...      ...   \n",
       "256110  40794301      1     2012       5   37  37441         1        2   \n",
       "256111  40794301      2     2005      12   49  49032         1        1   \n",
       "256112  40794301      3     1996      21   35  35443         1        2   \n",
       "256113  40794301      4     1991      26   49  49471         1        4   \n",
       "256114  40794301      5     1990      27   35  XXXXX         1        1   \n",
       "\n",
       "        WHOMAIN  OD_READ  ...  HTEEMPDN  HBHTNRNT  HBPPOPDN  HBRESDN  \\\n",
       "0             3    69000  ...       750        20       750      300   \n",
       "1            -8   164000  ...       750        20       750      300   \n",
       "2             1   120000  ...       750        20       750      300   \n",
       "3             2      -88  ...       750        20       750      300   \n",
       "4             2   300000  ...       750        20       750      300   \n",
       "...         ...      ...  ...       ...       ...       ...      ...   \n",
       "256110        1    60976  ...        25        20       300       50   \n",
       "256111        4    93388  ...        25        20       300       50   \n",
       "256112        3   143616  ...        25        20       300       50   \n",
       "256113        2   195078  ...        25        20       300       50   \n",
       "256114        1   167141  ...        25        20       300       50   \n",
       "\n",
       "           GSYRGAL     GSTOTCST  FEGEMPG  FEGEMPGA   GSCOST  FEGEMPGF  \n",
       "0       487.064221  1126.457778       30        -9  2.31275         1  \n",
       "1       250.899523   580.267873       19        -9  2.31275         1  \n",
       "2       444.462475  1027.930589       18        -9  2.31275         1  \n",
       "3        40.329575    93.272224       18        -9  2.31275         1  \n",
       "4       888.404197  2054.656806       14        -9  2.31275         1  \n",
       "...            ...          ...      ...       ...      ...       ...  \n",
       "256110  695.087896  1607.564532       22        -9  2.31275         1  \n",
       "256111  518.977282  1200.264709       29        -9  2.31275         1  \n",
       "256112  493.677419  1141.752451       18        -9  2.31275         1  \n",
       "256113  387.809394   896.906177       20        -9  2.31275         2  \n",
       "256114  627.764488  1451.862319       22        -9  2.31275         1  \n",
       "\n",
       "[256115 rows x 60 columns]"
      ]
     },
     "execution_count": 4,
     "metadata": {},
     "output_type": "execute_result"
    }
   ],
   "source": [
    "veh"
   ]
  },
  {
   "cell_type": "code",
   "execution_count": 5,
   "id": "2af22122-567e-4b3a-bd89-68fb1cc75572",
   "metadata": {},
   "outputs": [
    {
     "data": {
      "text/html": [
       "<div>\n",
       "<style scoped>\n",
       "    .dataframe tbody tr th:only-of-type {\n",
       "        vertical-align: middle;\n",
       "    }\n",
       "\n",
       "    .dataframe tbody tr th {\n",
       "        vertical-align: top;\n",
       "    }\n",
       "\n",
       "    .dataframe thead th {\n",
       "        text-align: right;\n",
       "    }\n",
       "</style>\n",
       "<table border=\"1\" class=\"dataframe\">\n",
       "  <thead>\n",
       "    <tr style=\"text-align: right;\">\n",
       "      <th></th>\n",
       "      <th>HOUSEID</th>\n",
       "      <th>VEHID</th>\n",
       "      <th>VEHYEAR</th>\n",
       "      <th>VEHAGE</th>\n",
       "      <th>MAKE</th>\n",
       "      <th>MODEL</th>\n",
       "      <th>FUELTYPE</th>\n",
       "      <th>VEHTYPE</th>\n",
       "      <th>WHOMAIN</th>\n",
       "      <th>OD_READ</th>\n",
       "      <th>...</th>\n",
       "      <th>HTEEMPDN</th>\n",
       "      <th>HBHTNRNT</th>\n",
       "      <th>HBPPOPDN</th>\n",
       "      <th>HBRESDN</th>\n",
       "      <th>GSYRGAL</th>\n",
       "      <th>GSTOTCST</th>\n",
       "      <th>FEGEMPG</th>\n",
       "      <th>FEGEMPGA</th>\n",
       "      <th>GSCOST</th>\n",
       "      <th>FEGEMPGF</th>\n",
       "    </tr>\n",
       "  </thead>\n",
       "  <tbody>\n",
       "    <tr>\n",
       "      <th>0</th>\n",
       "      <td>30000007</td>\n",
       "      <td>1</td>\n",
       "      <td>2007</td>\n",
       "      <td>10</td>\n",
       "      <td>49</td>\n",
       "      <td>49032</td>\n",
       "      <td>1</td>\n",
       "      <td>1</td>\n",
       "      <td>3</td>\n",
       "      <td>69000</td>\n",
       "      <td>...</td>\n",
       "      <td>750</td>\n",
       "      <td>20</td>\n",
       "      <td>750</td>\n",
       "      <td>300</td>\n",
       "      <td>487.064221</td>\n",
       "      <td>1126.457778</td>\n",
       "      <td>30</td>\n",
       "      <td>-9</td>\n",
       "      <td>2.31275</td>\n",
       "      <td>1</td>\n",
       "    </tr>\n",
       "    <tr>\n",
       "      <th>1</th>\n",
       "      <td>30000007</td>\n",
       "      <td>2</td>\n",
       "      <td>2004</td>\n",
       "      <td>13</td>\n",
       "      <td>49</td>\n",
       "      <td>49442</td>\n",
       "      <td>1</td>\n",
       "      <td>2</td>\n",
       "      <td>-8</td>\n",
       "      <td>164000</td>\n",
       "      <td>...</td>\n",
       "      <td>750</td>\n",
       "      <td>20</td>\n",
       "      <td>750</td>\n",
       "      <td>300</td>\n",
       "      <td>250.899523</td>\n",
       "      <td>580.267873</td>\n",
       "      <td>19</td>\n",
       "      <td>-9</td>\n",
       "      <td>2.31275</td>\n",
       "      <td>1</td>\n",
       "    </tr>\n",
       "    <tr>\n",
       "      <th>2</th>\n",
       "      <td>30000007</td>\n",
       "      <td>3</td>\n",
       "      <td>1998</td>\n",
       "      <td>19</td>\n",
       "      <td>19</td>\n",
       "      <td>19014</td>\n",
       "      <td>1</td>\n",
       "      <td>1</td>\n",
       "      <td>1</td>\n",
       "      <td>120000</td>\n",
       "      <td>...</td>\n",
       "      <td>750</td>\n",
       "      <td>20</td>\n",
       "      <td>750</td>\n",
       "      <td>300</td>\n",
       "      <td>444.462475</td>\n",
       "      <td>1027.930589</td>\n",
       "      <td>18</td>\n",
       "      <td>-9</td>\n",
       "      <td>2.31275</td>\n",
       "      <td>1</td>\n",
       "    </tr>\n",
       "    <tr>\n",
       "      <th>3</th>\n",
       "      <td>30000007</td>\n",
       "      <td>4</td>\n",
       "      <td>1997</td>\n",
       "      <td>20</td>\n",
       "      <td>19</td>\n",
       "      <td>19021</td>\n",
       "      <td>1</td>\n",
       "      <td>1</td>\n",
       "      <td>2</td>\n",
       "      <td>-88</td>\n",
       "      <td>...</td>\n",
       "      <td>750</td>\n",
       "      <td>20</td>\n",
       "      <td>750</td>\n",
       "      <td>300</td>\n",
       "      <td>40.329575</td>\n",
       "      <td>93.272224</td>\n",
       "      <td>18</td>\n",
       "      <td>-9</td>\n",
       "      <td>2.31275</td>\n",
       "      <td>1</td>\n",
       "    </tr>\n",
       "    <tr>\n",
       "      <th>4</th>\n",
       "      <td>30000007</td>\n",
       "      <td>5</td>\n",
       "      <td>1993</td>\n",
       "      <td>24</td>\n",
       "      <td>20</td>\n",
       "      <td>20481</td>\n",
       "      <td>1</td>\n",
       "      <td>4</td>\n",
       "      <td>2</td>\n",
       "      <td>300000</td>\n",
       "      <td>...</td>\n",
       "      <td>750</td>\n",
       "      <td>20</td>\n",
       "      <td>750</td>\n",
       "      <td>300</td>\n",
       "      <td>888.404197</td>\n",
       "      <td>2054.656806</td>\n",
       "      <td>14</td>\n",
       "      <td>-9</td>\n",
       "      <td>2.31275</td>\n",
       "      <td>1</td>\n",
       "    </tr>\n",
       "  </tbody>\n",
       "</table>\n",
       "<p>5 rows × 60 columns</p>\n",
       "</div>"
      ],
      "text/plain": [
       "    HOUSEID  VEHID  VEHYEAR  VEHAGE MAKE  MODEL  FUELTYPE  VEHTYPE  WHOMAIN  \\\n",
       "0  30000007      1     2007      10   49  49032         1        1        3   \n",
       "1  30000007      2     2004      13   49  49442         1        2       -8   \n",
       "2  30000007      3     1998      19   19  19014         1        1        1   \n",
       "3  30000007      4     1997      20   19  19021         1        1        2   \n",
       "4  30000007      5     1993      24   20  20481         1        4        2   \n",
       "\n",
       "   OD_READ  ...  HTEEMPDN  HBHTNRNT  HBPPOPDN  HBRESDN     GSYRGAL  \\\n",
       "0    69000  ...       750        20       750      300  487.064221   \n",
       "1   164000  ...       750        20       750      300  250.899523   \n",
       "2   120000  ...       750        20       750      300  444.462475   \n",
       "3      -88  ...       750        20       750      300   40.329575   \n",
       "4   300000  ...       750        20       750      300  888.404197   \n",
       "\n",
       "      GSTOTCST  FEGEMPG  FEGEMPGA   GSCOST  FEGEMPGF  \n",
       "0  1126.457778       30        -9  2.31275         1  \n",
       "1   580.267873       19        -9  2.31275         1  \n",
       "2  1027.930589       18        -9  2.31275         1  \n",
       "3    93.272224       18        -9  2.31275         1  \n",
       "4  2054.656806       14        -9  2.31275         1  \n",
       "\n",
       "[5 rows x 60 columns]"
      ]
     },
     "execution_count": 5,
     "metadata": {},
     "output_type": "execute_result"
    }
   ],
   "source": [
    "veh.head() # print first few rows"
   ]
  },
  {
   "cell_type": "code",
   "execution_count": 6,
   "id": "40ac984b-28ef-43e4-8fe3-9cead6b23e69",
   "metadata": {},
   "outputs": [
    {
     "data": {
      "text/html": [
       "<div>\n",
       "<style scoped>\n",
       "    .dataframe tbody tr th:only-of-type {\n",
       "        vertical-align: middle;\n",
       "    }\n",
       "\n",
       "    .dataframe tbody tr th {\n",
       "        vertical-align: top;\n",
       "    }\n",
       "\n",
       "    .dataframe thead th {\n",
       "        text-align: right;\n",
       "    }\n",
       "</style>\n",
       "<table border=\"1\" class=\"dataframe\">\n",
       "  <thead>\n",
       "    <tr style=\"text-align: right;\">\n",
       "      <th></th>\n",
       "      <th>HOUSEID</th>\n",
       "      <th>VEHID</th>\n",
       "      <th>VEHYEAR</th>\n",
       "      <th>VEHAGE</th>\n",
       "      <th>MAKE</th>\n",
       "      <th>MODEL</th>\n",
       "      <th>FUELTYPE</th>\n",
       "      <th>VEHTYPE</th>\n",
       "      <th>WHOMAIN</th>\n",
       "      <th>OD_READ</th>\n",
       "      <th>...</th>\n",
       "      <th>HTEEMPDN</th>\n",
       "      <th>HBHTNRNT</th>\n",
       "      <th>HBPPOPDN</th>\n",
       "      <th>HBRESDN</th>\n",
       "      <th>GSYRGAL</th>\n",
       "      <th>GSTOTCST</th>\n",
       "      <th>FEGEMPG</th>\n",
       "      <th>FEGEMPGA</th>\n",
       "      <th>GSCOST</th>\n",
       "      <th>FEGEMPGF</th>\n",
       "    </tr>\n",
       "  </thead>\n",
       "  <tbody>\n",
       "    <tr>\n",
       "      <th>256110</th>\n",
       "      <td>40794301</td>\n",
       "      <td>1</td>\n",
       "      <td>2012</td>\n",
       "      <td>5</td>\n",
       "      <td>37</td>\n",
       "      <td>37441</td>\n",
       "      <td>1</td>\n",
       "      <td>2</td>\n",
       "      <td>1</td>\n",
       "      <td>60976</td>\n",
       "      <td>...</td>\n",
       "      <td>25</td>\n",
       "      <td>20</td>\n",
       "      <td>300</td>\n",
       "      <td>50</td>\n",
       "      <td>695.087896</td>\n",
       "      <td>1607.564532</td>\n",
       "      <td>22</td>\n",
       "      <td>-9</td>\n",
       "      <td>2.31275</td>\n",
       "      <td>1</td>\n",
       "    </tr>\n",
       "    <tr>\n",
       "      <th>256111</th>\n",
       "      <td>40794301</td>\n",
       "      <td>2</td>\n",
       "      <td>2005</td>\n",
       "      <td>12</td>\n",
       "      <td>49</td>\n",
       "      <td>49032</td>\n",
       "      <td>1</td>\n",
       "      <td>1</td>\n",
       "      <td>4</td>\n",
       "      <td>93388</td>\n",
       "      <td>...</td>\n",
       "      <td>25</td>\n",
       "      <td>20</td>\n",
       "      <td>300</td>\n",
       "      <td>50</td>\n",
       "      <td>518.977282</td>\n",
       "      <td>1200.264709</td>\n",
       "      <td>29</td>\n",
       "      <td>-9</td>\n",
       "      <td>2.31275</td>\n",
       "      <td>1</td>\n",
       "    </tr>\n",
       "    <tr>\n",
       "      <th>256112</th>\n",
       "      <td>40794301</td>\n",
       "      <td>3</td>\n",
       "      <td>1996</td>\n",
       "      <td>21</td>\n",
       "      <td>35</td>\n",
       "      <td>35443</td>\n",
       "      <td>1</td>\n",
       "      <td>2</td>\n",
       "      <td>3</td>\n",
       "      <td>143616</td>\n",
       "      <td>...</td>\n",
       "      <td>25</td>\n",
       "      <td>20</td>\n",
       "      <td>300</td>\n",
       "      <td>50</td>\n",
       "      <td>493.677419</td>\n",
       "      <td>1141.752451</td>\n",
       "      <td>18</td>\n",
       "      <td>-9</td>\n",
       "      <td>2.31275</td>\n",
       "      <td>1</td>\n",
       "    </tr>\n",
       "    <tr>\n",
       "      <th>256113</th>\n",
       "      <td>40794301</td>\n",
       "      <td>4</td>\n",
       "      <td>1991</td>\n",
       "      <td>26</td>\n",
       "      <td>49</td>\n",
       "      <td>49471</td>\n",
       "      <td>1</td>\n",
       "      <td>4</td>\n",
       "      <td>2</td>\n",
       "      <td>195078</td>\n",
       "      <td>...</td>\n",
       "      <td>25</td>\n",
       "      <td>20</td>\n",
       "      <td>300</td>\n",
       "      <td>50</td>\n",
       "      <td>387.809394</td>\n",
       "      <td>896.906177</td>\n",
       "      <td>20</td>\n",
       "      <td>-9</td>\n",
       "      <td>2.31275</td>\n",
       "      <td>2</td>\n",
       "    </tr>\n",
       "    <tr>\n",
       "      <th>256114</th>\n",
       "      <td>40794301</td>\n",
       "      <td>5</td>\n",
       "      <td>1990</td>\n",
       "      <td>27</td>\n",
       "      <td>35</td>\n",
       "      <td>XXXXX</td>\n",
       "      <td>1</td>\n",
       "      <td>1</td>\n",
       "      <td>1</td>\n",
       "      <td>167141</td>\n",
       "      <td>...</td>\n",
       "      <td>25</td>\n",
       "      <td>20</td>\n",
       "      <td>300</td>\n",
       "      <td>50</td>\n",
       "      <td>627.764488</td>\n",
       "      <td>1451.862319</td>\n",
       "      <td>22</td>\n",
       "      <td>-9</td>\n",
       "      <td>2.31275</td>\n",
       "      <td>1</td>\n",
       "    </tr>\n",
       "  </tbody>\n",
       "</table>\n",
       "<p>5 rows × 60 columns</p>\n",
       "</div>"
      ],
      "text/plain": [
       "         HOUSEID  VEHID  VEHYEAR  VEHAGE MAKE  MODEL  FUELTYPE  VEHTYPE  \\\n",
       "256110  40794301      1     2012       5   37  37441         1        2   \n",
       "256111  40794301      2     2005      12   49  49032         1        1   \n",
       "256112  40794301      3     1996      21   35  35443         1        2   \n",
       "256113  40794301      4     1991      26   49  49471         1        4   \n",
       "256114  40794301      5     1990      27   35  XXXXX         1        1   \n",
       "\n",
       "        WHOMAIN  OD_READ  ...  HTEEMPDN  HBHTNRNT  HBPPOPDN  HBRESDN  \\\n",
       "256110        1    60976  ...        25        20       300       50   \n",
       "256111        4    93388  ...        25        20       300       50   \n",
       "256112        3   143616  ...        25        20       300       50   \n",
       "256113        2   195078  ...        25        20       300       50   \n",
       "256114        1   167141  ...        25        20       300       50   \n",
       "\n",
       "           GSYRGAL     GSTOTCST  FEGEMPG  FEGEMPGA   GSCOST  FEGEMPGF  \n",
       "256110  695.087896  1607.564532       22        -9  2.31275         1  \n",
       "256111  518.977282  1200.264709       29        -9  2.31275         1  \n",
       "256112  493.677419  1141.752451       18        -9  2.31275         1  \n",
       "256113  387.809394   896.906177       20        -9  2.31275         2  \n",
       "256114  627.764488  1451.862319       22        -9  2.31275         1  \n",
       "\n",
       "[5 rows x 60 columns]"
      ]
     },
     "execution_count": 6,
     "metadata": {},
     "output_type": "execute_result"
    }
   ],
   "source": [
    "veh.tail() # print last few rows"
   ]
  },
  {
   "cell_type": "code",
   "execution_count": 7,
   "id": "35723bf8-9c62-4f06-9e71-ca3418ca7f40",
   "metadata": {},
   "outputs": [
    {
     "data": {
      "text/plain": [
       "Index(['HOUSEID', 'VEHID', 'VEHYEAR', 'VEHAGE', 'MAKE', 'MODEL', 'FUELTYPE',\n",
       "       'VEHTYPE', 'WHOMAIN', 'OD_READ', 'HFUEL', 'VEHOWNED', 'VEHOWNMO',\n",
       "       'ANNMILES', 'HYBRID', 'PERSONID', 'TRAVDAY', 'HOMEOWN', 'HHSIZE',\n",
       "       'HHVEHCNT', 'HHFAMINC', 'DRVRCNT', 'HHSTATE', 'HHSTFIPS', 'NUMADLT',\n",
       "       'WRKCOUNT', 'TDAYDATE', 'LIF_CYC', 'MSACAT', 'MSASIZE', 'RAIL', 'URBAN',\n",
       "       'URBANSIZE', 'URBRUR', 'CENSUS_D', 'CENSUS_R', 'CDIVMSAR', 'HH_RACE',\n",
       "       'HH_HISP', 'HH_CBSA', 'SMPLSRCE', 'WTHHFIN', 'BESTMILE', 'BEST_FLG',\n",
       "       'BEST_EDT', 'BEST_OUT', 'HBHUR', 'HTHTNRNT', 'HTPPOPDN', 'HTRESDN',\n",
       "       'HTEEMPDN', 'HBHTNRNT', 'HBPPOPDN', 'HBRESDN', 'GSYRGAL', 'GSTOTCST',\n",
       "       'FEGEMPG', 'FEGEMPGA', 'GSCOST', 'FEGEMPGF'],\n",
       "      dtype='object')"
      ]
     },
     "execution_count": 7,
     "metadata": {},
     "output_type": "execute_result"
    }
   ],
   "source": [
    "veh.columns "
   ]
  },
  {
   "cell_type": "code",
   "execution_count": 8,
   "id": "54bb7bdf-460e-436f-af2b-b2d3fab0a6ec",
   "metadata": {},
   "outputs": [
    {
     "name": "stdout",
     "output_type": "stream",
     "text": [
      "<class 'pandas.core.frame.DataFrame'>\n",
      "RangeIndex: 256115 entries, 0 to 256114\n",
      "Data columns (total 60 columns):\n",
      " #   Column     Non-Null Count   Dtype  \n",
      "---  ------     --------------   -----  \n",
      " 0   HOUSEID    256115 non-null  int64  \n",
      " 1   VEHID      256115 non-null  int64  \n",
      " 2   VEHYEAR    256115 non-null  int64  \n",
      " 3   VEHAGE     256115 non-null  int64  \n",
      " 4   MAKE       256115 non-null  object \n",
      " 5   MODEL      256115 non-null  object \n",
      " 6   FUELTYPE   256115 non-null  int64  \n",
      " 7   VEHTYPE    256115 non-null  int64  \n",
      " 8   WHOMAIN    256115 non-null  int64  \n",
      " 9   OD_READ    256115 non-null  int64  \n",
      " 10  HFUEL      256115 non-null  int64  \n",
      " 11  VEHOWNED   256115 non-null  int64  \n",
      " 12  VEHOWNMO   256115 non-null  int64  \n",
      " 13  ANNMILES   256115 non-null  int64  \n",
      " 14  HYBRID     256115 non-null  int64  \n",
      " 15  PERSONID   256115 non-null  int64  \n",
      " 16  TRAVDAY    256115 non-null  int64  \n",
      " 17  HOMEOWN    256115 non-null  int64  \n",
      " 18  HHSIZE     256115 non-null  int64  \n",
      " 19  HHVEHCNT   256115 non-null  int64  \n",
      " 20  HHFAMINC   256115 non-null  int64  \n",
      " 21  DRVRCNT    256115 non-null  int64  \n",
      " 22  HHSTATE    256115 non-null  object \n",
      " 23  HHSTFIPS   256115 non-null  int64  \n",
      " 24  NUMADLT    256115 non-null  int64  \n",
      " 25  WRKCOUNT   256115 non-null  int64  \n",
      " 26  TDAYDATE   256115 non-null  int64  \n",
      " 27  LIF_CYC    256115 non-null  int64  \n",
      " 28  MSACAT     256115 non-null  int64  \n",
      " 29  MSASIZE    256115 non-null  int64  \n",
      " 30  RAIL       256115 non-null  int64  \n",
      " 31  URBAN      256115 non-null  int64  \n",
      " 32  URBANSIZE  256115 non-null  int64  \n",
      " 33  URBRUR     256115 non-null  int64  \n",
      " 34  CENSUS_D   256115 non-null  int64  \n",
      " 35  CENSUS_R   256115 non-null  int64  \n",
      " 36  CDIVMSAR   256115 non-null  int64  \n",
      " 37  HH_RACE    256115 non-null  int64  \n",
      " 38  HH_HISP    256115 non-null  int64  \n",
      " 39  HH_CBSA    256115 non-null  object \n",
      " 40  SMPLSRCE   256115 non-null  int64  \n",
      " 41  WTHHFIN    256115 non-null  float64\n",
      " 42  BESTMILE   256115 non-null  float64\n",
      " 43  BEST_FLG   256115 non-null  int64  \n",
      " 44  BEST_EDT   256115 non-null  int64  \n",
      " 45  BEST_OUT   256115 non-null  int64  \n",
      " 46  HBHUR      256115 non-null  object \n",
      " 47  HTHTNRNT   256115 non-null  int64  \n",
      " 48  HTPPOPDN   256115 non-null  int64  \n",
      " 49  HTRESDN    256115 non-null  int64  \n",
      " 50  HTEEMPDN   256115 non-null  int64  \n",
      " 51  HBHTNRNT   256115 non-null  int64  \n",
      " 52  HBPPOPDN   256115 non-null  int64  \n",
      " 53  HBRESDN    256115 non-null  int64  \n",
      " 54  GSYRGAL    256115 non-null  float64\n",
      " 55  GSTOTCST   256115 non-null  float64\n",
      " 56  FEGEMPG    256115 non-null  int64  \n",
      " 57  FEGEMPGA   256115 non-null  int64  \n",
      " 58  GSCOST     256115 non-null  float64\n",
      " 59  FEGEMPGF   256115 non-null  int64  \n",
      "dtypes: float64(5), int64(50), object(5)\n",
      "memory usage: 117.2+ MB\n"
     ]
    }
   ],
   "source": [
    "veh.info()"
   ]
  },
  {
   "cell_type": "markdown",
   "id": "71b5415a-9d60-4bfb-a85f-dd6d5eecf645",
   "metadata": {},
   "source": [
    "Look at the values for a single column, in this case the state variable"
   ]
  },
  {
   "cell_type": "code",
   "execution_count": 9,
   "id": "ec7e5a1c-adac-42ee-8fcc-dfa89ddcc4b9",
   "metadata": {},
   "outputs": [
    {
     "data": {
      "text/plain": [
       "0         NC\n",
       "1         NC\n",
       "2         NC\n",
       "3         NC\n",
       "4         NC\n",
       "          ..\n",
       "256110    NC\n",
       "256111    NC\n",
       "256112    NC\n",
       "256113    NC\n",
       "256114    NC\n",
       "Name: HHSTATE, Length: 256115, dtype: object"
      ]
     },
     "execution_count": 9,
     "metadata": {},
     "output_type": "execute_result"
    }
   ],
   "source": [
    "veh['HHSTATE']"
   ]
  },
  {
   "cell_type": "code",
   "execution_count": 10,
   "id": "0da48a33-5f70-4fe9-b960-6fc8d244f783",
   "metadata": {},
   "outputs": [
    {
     "data": {
      "text/plain": [
       "0         NC\n",
       "1         NC\n",
       "2         NC\n",
       "3         NC\n",
       "4         NC\n",
       "          ..\n",
       "256110    NC\n",
       "256111    NC\n",
       "256112    NC\n",
       "256113    NC\n",
       "256114    NC\n",
       "Name: HHSTATE, Length: 256115, dtype: object"
      ]
     },
     "execution_count": 10,
     "metadata": {},
     "output_type": "execute_result"
    }
   ],
   "source": [
    "veh.HHSTATE # This is alternative way to look at the column variable"
   ]
  },
  {
   "cell_type": "code",
   "execution_count": 11,
   "id": "7c1085d1-6b1a-4ccb-9c5f-55e03c5755f7",
   "metadata": {},
   "outputs": [
    {
     "data": {
      "text/plain": [
       "CA    52215\n",
       "TX    47946\n",
       "NY    30831\n",
       "WI    23959\n",
       "NC    18071\n",
       "GA    16965\n",
       "SC    14104\n",
       "AZ     6153\n",
       "IA     5541\n",
       "MD     2952\n",
       "FL     2636\n",
       "OK     2591\n",
       "OH     2002\n",
       "PA     1999\n",
       "IL     1816\n",
       "MI     1557\n",
       "VA     1476\n",
       "MN     1328\n",
       "WA     1306\n",
       "IN     1046\n",
       "MO     1009\n",
       "NJ      999\n",
       "CO      953\n",
       "TN      940\n",
       "MT      840\n",
       "MA      815\n",
       "OR      785\n",
       "ID      783\n",
       "VT      759\n",
       "SD      751\n",
       "UT      741\n",
       "ND      716\n",
       "WY      681\n",
       "AL      673\n",
       "ME      609\n",
       "NE      608\n",
       "KY      605\n",
       "KS      600\n",
       "NH      573\n",
       "DE      511\n",
       "HI      491\n",
       "NM      487\n",
       "AK      479\n",
       "CT      473\n",
       "WV      424\n",
       "LA      419\n",
       "RI      419\n",
       "MS      414\n",
       "AR      408\n",
       "NV      371\n",
       "DC      285\n",
       "Name: HHSTATE, dtype: int64"
      ]
     },
     "execution_count": 11,
     "metadata": {},
     "output_type": "execute_result"
    }
   ],
   "source": [
    "veh['HHSTATE'].value_counts() # This code tells us how many records per state"
   ]
  },
  {
   "cell_type": "markdown",
   "id": "fa719793-9bd9-4ad7-b074-077773436360",
   "metadata": {},
   "source": [
    "Create a new DataFrame but keeping only CA's records"
   ]
  },
  {
   "cell_type": "code",
   "execution_count": 12,
   "id": "c6d27e72-ee42-490c-beee-68e085adfeca",
   "metadata": {},
   "outputs": [],
   "source": [
    "CA_veh = veh[veh.HHSTATE =='CA']"
   ]
  },
  {
   "cell_type": "code",
   "execution_count": 13,
   "id": "4eda5bfa-e283-4194-867e-a44baa887a83",
   "metadata": {},
   "outputs": [
    {
     "data": {
      "text/html": [
       "<div>\n",
       "<style scoped>\n",
       "    .dataframe tbody tr th:only-of-type {\n",
       "        vertical-align: middle;\n",
       "    }\n",
       "\n",
       "    .dataframe tbody tr th {\n",
       "        vertical-align: top;\n",
       "    }\n",
       "\n",
       "    .dataframe thead th {\n",
       "        text-align: right;\n",
       "    }\n",
       "</style>\n",
       "<table border=\"1\" class=\"dataframe\">\n",
       "  <thead>\n",
       "    <tr style=\"text-align: right;\">\n",
       "      <th></th>\n",
       "      <th>HOUSEID</th>\n",
       "      <th>VEHID</th>\n",
       "      <th>VEHYEAR</th>\n",
       "      <th>VEHAGE</th>\n",
       "      <th>MAKE</th>\n",
       "      <th>MODEL</th>\n",
       "      <th>FUELTYPE</th>\n",
       "      <th>VEHTYPE</th>\n",
       "      <th>WHOMAIN</th>\n",
       "      <th>OD_READ</th>\n",
       "      <th>...</th>\n",
       "      <th>HTEEMPDN</th>\n",
       "      <th>HBHTNRNT</th>\n",
       "      <th>HBPPOPDN</th>\n",
       "      <th>HBRESDN</th>\n",
       "      <th>GSYRGAL</th>\n",
       "      <th>GSTOTCST</th>\n",
       "      <th>FEGEMPG</th>\n",
       "      <th>FEGEMPGA</th>\n",
       "      <th>GSCOST</th>\n",
       "      <th>FEGEMPGF</th>\n",
       "    </tr>\n",
       "  </thead>\n",
       "  <tbody>\n",
       "    <tr>\n",
       "      <th>17</th>\n",
       "      <td>30000041</td>\n",
       "      <td>1</td>\n",
       "      <td>2016</td>\n",
       "      <td>1</td>\n",
       "      <td>49</td>\n",
       "      <td>49046</td>\n",
       "      <td>3</td>\n",
       "      <td>1</td>\n",
       "      <td>2</td>\n",
       "      <td>1532</td>\n",
       "      <td>...</td>\n",
       "      <td>25</td>\n",
       "      <td>40</td>\n",
       "      <td>300</td>\n",
       "      <td>300</td>\n",
       "      <td>331.251446</td>\n",
       "      <td>947.020280</td>\n",
       "      <td>50</td>\n",
       "      <td>-9</td>\n",
       "      <td>2.858917</td>\n",
       "      <td>1</td>\n",
       "    </tr>\n",
       "    <tr>\n",
       "      <th>18</th>\n",
       "      <td>30000041</td>\n",
       "      <td>2</td>\n",
       "      <td>2011</td>\n",
       "      <td>6</td>\n",
       "      <td>49</td>\n",
       "      <td>49046</td>\n",
       "      <td>3</td>\n",
       "      <td>1</td>\n",
       "      <td>1</td>\n",
       "      <td>40560</td>\n",
       "      <td>...</td>\n",
       "      <td>25</td>\n",
       "      <td>40</td>\n",
       "      <td>300</td>\n",
       "      <td>300</td>\n",
       "      <td>207.269346</td>\n",
       "      <td>592.565787</td>\n",
       "      <td>48</td>\n",
       "      <td>-9</td>\n",
       "      <td>2.858917</td>\n",
       "      <td>1</td>\n",
       "    </tr>\n",
       "    <tr>\n",
       "      <th>27</th>\n",
       "      <td>30000085</td>\n",
       "      <td>1</td>\n",
       "      <td>2004</td>\n",
       "      <td>13</td>\n",
       "      <td>49</td>\n",
       "      <td>49482</td>\n",
       "      <td>1</td>\n",
       "      <td>4</td>\n",
       "      <td>1</td>\n",
       "      <td>145000</td>\n",
       "      <td>...</td>\n",
       "      <td>5000</td>\n",
       "      <td>50</td>\n",
       "      <td>30000</td>\n",
       "      <td>17000</td>\n",
       "      <td>902.362298</td>\n",
       "      <td>2579.778614</td>\n",
       "      <td>15</td>\n",
       "      <td>-9</td>\n",
       "      <td>2.858917</td>\n",
       "      <td>1</td>\n",
       "    </tr>\n",
       "    <tr>\n",
       "      <th>28</th>\n",
       "      <td>30000085</td>\n",
       "      <td>2</td>\n",
       "      <td>2004</td>\n",
       "      <td>13</td>\n",
       "      <td>02</td>\n",
       "      <td>2407</td>\n",
       "      <td>1</td>\n",
       "      <td>3</td>\n",
       "      <td>1</td>\n",
       "      <td>175000</td>\n",
       "      <td>...</td>\n",
       "      <td>5000</td>\n",
       "      <td>50</td>\n",
       "      <td>30000</td>\n",
       "      <td>17000</td>\n",
       "      <td>459.193033</td>\n",
       "      <td>1312.794615</td>\n",
       "      <td>23</td>\n",
       "      <td>-9</td>\n",
       "      <td>2.858917</td>\n",
       "      <td>1</td>\n",
       "    </tr>\n",
       "    <tr>\n",
       "      <th>31</th>\n",
       "      <td>30000094</td>\n",
       "      <td>1</td>\n",
       "      <td>2009</td>\n",
       "      <td>8</td>\n",
       "      <td>37</td>\n",
       "      <td>37031</td>\n",
       "      <td>1</td>\n",
       "      <td>1</td>\n",
       "      <td>1</td>\n",
       "      <td>-88</td>\n",
       "      <td>...</td>\n",
       "      <td>150</td>\n",
       "      <td>20</td>\n",
       "      <td>300</td>\n",
       "      <td>300</td>\n",
       "      <td>229.671414</td>\n",
       "      <td>656.611434</td>\n",
       "      <td>27</td>\n",
       "      <td>-9</td>\n",
       "      <td>2.858917</td>\n",
       "      <td>1</td>\n",
       "    </tr>\n",
       "    <tr>\n",
       "      <th>...</th>\n",
       "      <td>...</td>\n",
       "      <td>...</td>\n",
       "      <td>...</td>\n",
       "      <td>...</td>\n",
       "      <td>...</td>\n",
       "      <td>...</td>\n",
       "      <td>...</td>\n",
       "      <td>...</td>\n",
       "      <td>...</td>\n",
       "      <td>...</td>\n",
       "      <td>...</td>\n",
       "      <td>...</td>\n",
       "      <td>...</td>\n",
       "      <td>...</td>\n",
       "      <td>...</td>\n",
       "      <td>...</td>\n",
       "      <td>...</td>\n",
       "      <td>...</td>\n",
       "      <td>...</td>\n",
       "      <td>...</td>\n",
       "      <td>...</td>\n",
       "    </tr>\n",
       "    <tr>\n",
       "      <th>256095</th>\n",
       "      <td>40794233</td>\n",
       "      <td>2</td>\n",
       "      <td>2005</td>\n",
       "      <td>12</td>\n",
       "      <td>30</td>\n",
       "      <td>30047</td>\n",
       "      <td>1</td>\n",
       "      <td>1</td>\n",
       "      <td>2</td>\n",
       "      <td>-88</td>\n",
       "      <td>...</td>\n",
       "      <td>25</td>\n",
       "      <td>5</td>\n",
       "      <td>750</td>\n",
       "      <td>300</td>\n",
       "      <td>487.093044</td>\n",
       "      <td>1392.558421</td>\n",
       "      <td>23</td>\n",
       "      <td>-9</td>\n",
       "      <td>2.858917</td>\n",
       "      <td>1</td>\n",
       "    </tr>\n",
       "    <tr>\n",
       "      <th>256096</th>\n",
       "      <td>40794233</td>\n",
       "      <td>3</td>\n",
       "      <td>1997</td>\n",
       "      <td>20</td>\n",
       "      <td>34</td>\n",
       "      <td>34035</td>\n",
       "      <td>1</td>\n",
       "      <td>1</td>\n",
       "      <td>1</td>\n",
       "      <td>136000</td>\n",
       "      <td>...</td>\n",
       "      <td>25</td>\n",
       "      <td>5</td>\n",
       "      <td>750</td>\n",
       "      <td>300</td>\n",
       "      <td>25.141115</td>\n",
       "      <td>71.876353</td>\n",
       "      <td>13</td>\n",
       "      <td>-9</td>\n",
       "      <td>2.858917</td>\n",
       "      <td>1</td>\n",
       "    </tr>\n",
       "    <tr>\n",
       "      <th>256104</th>\n",
       "      <td>40794291</td>\n",
       "      <td>1</td>\n",
       "      <td>1999</td>\n",
       "      <td>18</td>\n",
       "      <td>37</td>\n",
       "      <td>37032</td>\n",
       "      <td>1</td>\n",
       "      <td>1</td>\n",
       "      <td>1</td>\n",
       "      <td>130000</td>\n",
       "      <td>...</td>\n",
       "      <td>150</td>\n",
       "      <td>20</td>\n",
       "      <td>750</td>\n",
       "      <td>300</td>\n",
       "      <td>152.428682</td>\n",
       "      <td>435.780900</td>\n",
       "      <td>23</td>\n",
       "      <td>-9</td>\n",
       "      <td>2.858917</td>\n",
       "      <td>1</td>\n",
       "    </tr>\n",
       "    <tr>\n",
       "      <th>256108</th>\n",
       "      <td>40794294</td>\n",
       "      <td>1</td>\n",
       "      <td>2015</td>\n",
       "      <td>2</td>\n",
       "      <td>48</td>\n",
       "      <td>48038</td>\n",
       "      <td>1</td>\n",
       "      <td>1</td>\n",
       "      <td>2</td>\n",
       "      <td>30000</td>\n",
       "      <td>...</td>\n",
       "      <td>5000</td>\n",
       "      <td>70</td>\n",
       "      <td>17000</td>\n",
       "      <td>7000</td>\n",
       "      <td>414.247111</td>\n",
       "      <td>1184.297970</td>\n",
       "      <td>29</td>\n",
       "      <td>-9</td>\n",
       "      <td>2.858917</td>\n",
       "      <td>1</td>\n",
       "    </tr>\n",
       "    <tr>\n",
       "      <th>256109</th>\n",
       "      <td>40794294</td>\n",
       "      <td>2</td>\n",
       "      <td>2011</td>\n",
       "      <td>6</td>\n",
       "      <td>20</td>\n",
       "      <td>20026</td>\n",
       "      <td>3</td>\n",
       "      <td>1</td>\n",
       "      <td>1</td>\n",
       "      <td>50000</td>\n",
       "      <td>...</td>\n",
       "      <td>5000</td>\n",
       "      <td>70</td>\n",
       "      <td>17000</td>\n",
       "      <td>7000</td>\n",
       "      <td>411.086845</td>\n",
       "      <td>1175.263031</td>\n",
       "      <td>37</td>\n",
       "      <td>93</td>\n",
       "      <td>2.858917</td>\n",
       "      <td>1</td>\n",
       "    </tr>\n",
       "  </tbody>\n",
       "</table>\n",
       "<p>52215 rows × 60 columns</p>\n",
       "</div>"
      ],
      "text/plain": [
       "         HOUSEID  VEHID  VEHYEAR  VEHAGE MAKE  MODEL  FUELTYPE  VEHTYPE  \\\n",
       "17      30000041      1     2016       1   49  49046         3        1   \n",
       "18      30000041      2     2011       6   49  49046         3        1   \n",
       "27      30000085      1     2004      13   49  49482         1        4   \n",
       "28      30000085      2     2004      13   02   2407         1        3   \n",
       "31      30000094      1     2009       8   37  37031         1        1   \n",
       "...          ...    ...      ...     ...  ...    ...       ...      ...   \n",
       "256095  40794233      2     2005      12   30  30047         1        1   \n",
       "256096  40794233      3     1997      20   34  34035         1        1   \n",
       "256104  40794291      1     1999      18   37  37032         1        1   \n",
       "256108  40794294      1     2015       2   48  48038         1        1   \n",
       "256109  40794294      2     2011       6   20  20026         3        1   \n",
       "\n",
       "        WHOMAIN  OD_READ  ...  HTEEMPDN  HBHTNRNT  HBPPOPDN  HBRESDN  \\\n",
       "17            2     1532  ...        25        40       300      300   \n",
       "18            1    40560  ...        25        40       300      300   \n",
       "27            1   145000  ...      5000        50     30000    17000   \n",
       "28            1   175000  ...      5000        50     30000    17000   \n",
       "31            1      -88  ...       150        20       300      300   \n",
       "...         ...      ...  ...       ...       ...       ...      ...   \n",
       "256095        2      -88  ...        25         5       750      300   \n",
       "256096        1   136000  ...        25         5       750      300   \n",
       "256104        1   130000  ...       150        20       750      300   \n",
       "256108        2    30000  ...      5000        70     17000     7000   \n",
       "256109        1    50000  ...      5000        70     17000     7000   \n",
       "\n",
       "           GSYRGAL     GSTOTCST  FEGEMPG  FEGEMPGA    GSCOST  FEGEMPGF  \n",
       "17      331.251446   947.020280       50        -9  2.858917         1  \n",
       "18      207.269346   592.565787       48        -9  2.858917         1  \n",
       "27      902.362298  2579.778614       15        -9  2.858917         1  \n",
       "28      459.193033  1312.794615       23        -9  2.858917         1  \n",
       "31      229.671414   656.611434       27        -9  2.858917         1  \n",
       "...            ...          ...      ...       ...       ...       ...  \n",
       "256095  487.093044  1392.558421       23        -9  2.858917         1  \n",
       "256096   25.141115    71.876353       13        -9  2.858917         1  \n",
       "256104  152.428682   435.780900       23        -9  2.858917         1  \n",
       "256108  414.247111  1184.297970       29        -9  2.858917         1  \n",
       "256109  411.086845  1175.263031       37        93  2.858917         1  \n",
       "\n",
       "[52215 rows x 60 columns]"
      ]
     },
     "execution_count": 13,
     "metadata": {},
     "output_type": "execute_result"
    }
   ],
   "source": [
    "CA_veh"
   ]
  },
  {
   "cell_type": "markdown",
   "id": "c7e5c06a-f6dc-4ad5-a6dd-c573956f55b9",
   "metadata": {},
   "source": [
    "The DataFrame contains too many variables, subset and keep desired variables"
   ]
  },
  {
   "cell_type": "code",
   "execution_count": 14,
   "id": "b5aee887-3fce-4b5f-943a-5512c200c75e",
   "metadata": {},
   "outputs": [],
   "source": [
    "desired_columns = ['HOUSEID','VEHYEAR','VEHAGE','MAKE','MODEL','FUELTYPE',\n",
    "                    'VEHTYPE','HYBRID','PERSONID','HHSIZE','HHVEHCNT', \n",
    "                    'HHFAMINC','DRVRCNT','HHSTATE','HHSTFIPS','NUMADLT',\n",
    "                    'WRKCOUNT','HH_RACE','HH_HISP', 'HH_CBSA']\n",
    "\n",
    "# subset based on desired columns\n",
    "# create a new dataframe with desired columns\n",
    "CA_veh = CA_veh[desired_columns] "
   ]
  },
  {
   "cell_type": "code",
   "execution_count": 15,
   "id": "31533ba6-dc72-468d-bbb5-47e702878946",
   "metadata": {},
   "outputs": [
    {
     "data": {
      "text/html": [
       "<div>\n",
       "<style scoped>\n",
       "    .dataframe tbody tr th:only-of-type {\n",
       "        vertical-align: middle;\n",
       "    }\n",
       "\n",
       "    .dataframe tbody tr th {\n",
       "        vertical-align: top;\n",
       "    }\n",
       "\n",
       "    .dataframe thead th {\n",
       "        text-align: right;\n",
       "    }\n",
       "</style>\n",
       "<table border=\"1\" class=\"dataframe\">\n",
       "  <thead>\n",
       "    <tr style=\"text-align: right;\">\n",
       "      <th></th>\n",
       "      <th>HOUSEID</th>\n",
       "      <th>VEHYEAR</th>\n",
       "      <th>VEHAGE</th>\n",
       "      <th>MAKE</th>\n",
       "      <th>MODEL</th>\n",
       "      <th>FUELTYPE</th>\n",
       "      <th>VEHTYPE</th>\n",
       "      <th>HYBRID</th>\n",
       "      <th>PERSONID</th>\n",
       "      <th>HHSIZE</th>\n",
       "      <th>HHVEHCNT</th>\n",
       "      <th>HHFAMINC</th>\n",
       "      <th>DRVRCNT</th>\n",
       "      <th>HHSTATE</th>\n",
       "      <th>HHSTFIPS</th>\n",
       "      <th>NUMADLT</th>\n",
       "      <th>WRKCOUNT</th>\n",
       "      <th>HH_RACE</th>\n",
       "      <th>HH_HISP</th>\n",
       "      <th>HH_CBSA</th>\n",
       "    </tr>\n",
       "  </thead>\n",
       "  <tbody>\n",
       "    <tr>\n",
       "      <th>17</th>\n",
       "      <td>30000041</td>\n",
       "      <td>2016</td>\n",
       "      <td>1</td>\n",
       "      <td>49</td>\n",
       "      <td>49046</td>\n",
       "      <td>3</td>\n",
       "      <td>1</td>\n",
       "      <td>1</td>\n",
       "      <td>2</td>\n",
       "      <td>2</td>\n",
       "      <td>2</td>\n",
       "      <td>11</td>\n",
       "      <td>2</td>\n",
       "      <td>CA</td>\n",
       "      <td>6</td>\n",
       "      <td>2</td>\n",
       "      <td>2</td>\n",
       "      <td>1</td>\n",
       "      <td>2</td>\n",
       "      <td>XXXXX</td>\n",
       "    </tr>\n",
       "    <tr>\n",
       "      <th>18</th>\n",
       "      <td>30000041</td>\n",
       "      <td>2011</td>\n",
       "      <td>6</td>\n",
       "      <td>49</td>\n",
       "      <td>49046</td>\n",
       "      <td>3</td>\n",
       "      <td>1</td>\n",
       "      <td>1</td>\n",
       "      <td>1</td>\n",
       "      <td>2</td>\n",
       "      <td>2</td>\n",
       "      <td>11</td>\n",
       "      <td>2</td>\n",
       "      <td>CA</td>\n",
       "      <td>6</td>\n",
       "      <td>2</td>\n",
       "      <td>2</td>\n",
       "      <td>1</td>\n",
       "      <td>2</td>\n",
       "      <td>XXXXX</td>\n",
       "    </tr>\n",
       "    <tr>\n",
       "      <th>27</th>\n",
       "      <td>30000085</td>\n",
       "      <td>2004</td>\n",
       "      <td>13</td>\n",
       "      <td>49</td>\n",
       "      <td>49482</td>\n",
       "      <td>1</td>\n",
       "      <td>4</td>\n",
       "      <td>2</td>\n",
       "      <td>1</td>\n",
       "      <td>1</td>\n",
       "      <td>2</td>\n",
       "      <td>9</td>\n",
       "      <td>1</td>\n",
       "      <td>CA</td>\n",
       "      <td>6</td>\n",
       "      <td>1</td>\n",
       "      <td>1</td>\n",
       "      <td>97</td>\n",
       "      <td>1</td>\n",
       "      <td>41740</td>\n",
       "    </tr>\n",
       "    <tr>\n",
       "      <th>28</th>\n",
       "      <td>30000085</td>\n",
       "      <td>2004</td>\n",
       "      <td>13</td>\n",
       "      <td>02</td>\n",
       "      <td>2407</td>\n",
       "      <td>1</td>\n",
       "      <td>3</td>\n",
       "      <td>2</td>\n",
       "      <td>1</td>\n",
       "      <td>1</td>\n",
       "      <td>2</td>\n",
       "      <td>9</td>\n",
       "      <td>1</td>\n",
       "      <td>CA</td>\n",
       "      <td>6</td>\n",
       "      <td>1</td>\n",
       "      <td>1</td>\n",
       "      <td>97</td>\n",
       "      <td>1</td>\n",
       "      <td>41740</td>\n",
       "    </tr>\n",
       "    <tr>\n",
       "      <th>31</th>\n",
       "      <td>30000094</td>\n",
       "      <td>2009</td>\n",
       "      <td>8</td>\n",
       "      <td>37</td>\n",
       "      <td>37031</td>\n",
       "      <td>1</td>\n",
       "      <td>1</td>\n",
       "      <td>2</td>\n",
       "      <td>1</td>\n",
       "      <td>1</td>\n",
       "      <td>1</td>\n",
       "      <td>4</td>\n",
       "      <td>1</td>\n",
       "      <td>CA</td>\n",
       "      <td>6</td>\n",
       "      <td>1</td>\n",
       "      <td>1</td>\n",
       "      <td>1</td>\n",
       "      <td>1</td>\n",
       "      <td>XXXXX</td>\n",
       "    </tr>\n",
       "  </tbody>\n",
       "</table>\n",
       "</div>"
      ],
      "text/plain": [
       "     HOUSEID  VEHYEAR  VEHAGE MAKE  MODEL  FUELTYPE  VEHTYPE  HYBRID  \\\n",
       "17  30000041     2016       1   49  49046         3        1       1   \n",
       "18  30000041     2011       6   49  49046         3        1       1   \n",
       "27  30000085     2004      13   49  49482         1        4       2   \n",
       "28  30000085     2004      13   02   2407         1        3       2   \n",
       "31  30000094     2009       8   37  37031         1        1       2   \n",
       "\n",
       "    PERSONID  HHSIZE  HHVEHCNT  HHFAMINC  DRVRCNT HHSTATE  HHSTFIPS  NUMADLT  \\\n",
       "17         2       2         2        11        2      CA         6        2   \n",
       "18         1       2         2        11        2      CA         6        2   \n",
       "27         1       1         2         9        1      CA         6        1   \n",
       "28         1       1         2         9        1      CA         6        1   \n",
       "31         1       1         1         4        1      CA         6        1   \n",
       "\n",
       "    WRKCOUNT  HH_RACE  HH_HISP HH_CBSA  \n",
       "17         2        1        2   XXXXX  \n",
       "18         2        1        2   XXXXX  \n",
       "27         1       97        1   41740  \n",
       "28         1       97        1   41740  \n",
       "31         1        1        1   XXXXX  "
      ]
     },
     "execution_count": 15,
     "metadata": {},
     "output_type": "execute_result"
    }
   ],
   "source": [
    "CA_veh.head() # print first few rows and inspect"
   ]
  },
  {
   "cell_type": "markdown",
   "id": "4850801b-5fbb-4abb-bf54-2e12acbec41c",
   "metadata": {},
   "source": [
    "Select a couple of variables and examine their values"
   ]
  },
  {
   "cell_type": "code",
   "execution_count": 16,
   "id": "fdb8f414-c57a-44c7-b6c6-578478bc698b",
   "metadata": {},
   "outputs": [
    {
     "data": {
      "text/plain": [
       " 1     41813\n",
       " 3      4164\n",
       " 6      2353\n",
       " 97     1608\n",
       " 2      1194\n",
       "-7       395\n",
       " 4       338\n",
       " 5       281\n",
       "-8        69\n",
       "Name: HH_RACE, dtype: int64"
      ]
     },
     "execution_count": 16,
     "metadata": {},
     "output_type": "execute_result"
    }
   ],
   "source": [
    "# let's check the values for the race variable\n",
    "CA_veh['HH_RACE'].value_counts()"
   ]
  },
  {
   "cell_type": "markdown",
   "id": "8f449085-be70-4a51-9550-fb25c983060e",
   "metadata": {},
   "source": [
    "|Variable | Definition | Key| \n",
    "| :-- | :-- | :-- |\n",
    "| HH_RACE | Race of household respondent |-8 = Don't know, -7 = Refused, 1 = White, 2 = Black or African American, 3 = Asian, 4 = American Indian or Alaska Native, 5 = Native Hawaiian or other Pacific Islander, 6 = Multiple responses selected, 97 = Some other race|                                "
   ]
  },
  {
   "cell_type": "code",
   "execution_count": 17,
   "id": "aa20d9bf-0795-4bb3-8a18-34816fcaf5f6",
   "metadata": {},
   "outputs": [
    {
     "data": {
      "text/plain": [
       " 2    46454\n",
       " 1     5649\n",
       "-7      110\n",
       "-8        2\n",
       "Name: HH_HISP, dtype: int64"
      ]
     },
     "execution_count": 17,
     "metadata": {},
     "output_type": "execute_result"
    }
   ],
   "source": [
    "# let's check the values for the Hispanic variable\n",
    "CA_veh['HH_HISP'].value_counts()"
   ]
  },
  {
   "cell_type": "markdown",
   "id": "fd53a7c2-bc09-4541-af51-3fa6728022cb",
   "metadata": {},
   "source": [
    "|Variable | Definition | Key| \n",
    "| :-- | :-- | :-- |\n",
    "| HH_HISP | Hispanic status of household respondent |-8 = Don't know, -7 = Refused, 1 = Yes, 2 = No|       "
   ]
  },
  {
   "cell_type": "code",
   "execution_count": 18,
   "id": "2f4491c4-7431-4c18-b5e0-b92ed9f2f036",
   "metadata": {},
   "outputs": [],
   "source": [
    "# note, the dataset will require some recoding to create unique race categories"
   ]
  },
  {
   "cell_type": "code",
   "execution_count": 19,
   "id": "23921e60-5990-4045-ab24-371fa47bc875",
   "metadata": {},
   "outputs": [
    {
     "data": {
      "text/plain": [
       "count    52215.000000\n",
       "mean         2.429130\n",
       "std          1.240581\n",
       "min          1.000000\n",
       "25%          2.000000\n",
       "50%          2.000000\n",
       "75%          3.000000\n",
       "max         11.000000\n",
       "Name: HHSIZE, dtype: float64"
      ]
     },
     "execution_count": 19,
     "metadata": {},
     "output_type": "execute_result"
    }
   ],
   "source": [
    "# generate descriptive statistics on the household size\n",
    "CA_veh.HHSIZE.describe()"
   ]
  },
  {
   "cell_type": "code",
   "execution_count": 20,
   "id": "a554b4c5-72e9-46d3-9d27-483af0e48491",
   "metadata": {},
   "outputs": [
    {
     "data": {
      "text/plain": [
       "count    52215.000000\n",
       "mean         2.721957\n",
       "std          1.475047\n",
       "min          1.000000\n",
       "25%          2.000000\n",
       "50%          2.000000\n",
       "75%          3.000000\n",
       "max         12.000000\n",
       "Name: HHVEHCNT, dtype: float64"
      ]
     },
     "execution_count": 20,
     "metadata": {},
     "output_type": "execute_result"
    }
   ],
   "source": [
    "# generate descriptive statistics on the count of household vehicles\n",
    "CA_veh.HHVEHCNT.describe()"
   ]
  },
  {
   "cell_type": "code",
   "execution_count": 21,
   "id": "20d544e5-cb7d-4655-b31a-b8db956cec19",
   "metadata": {},
   "outputs": [
    {
     "data": {
      "text/plain": [
       "count    52215.000000\n",
       "mean      1992.417466\n",
       "std        160.964043\n",
       "min         -8.000000\n",
       "25%       2001.000000\n",
       "50%       2006.000000\n",
       "75%       2012.000000\n",
       "max       2017.000000\n",
       "Name: VEHYEAR, dtype: float64"
      ]
     },
     "execution_count": 21,
     "metadata": {},
     "output_type": "execute_result"
    }
   ],
   "source": [
    "# generate descriptive statistics on the vehicle year\n",
    "CA_veh.VEHYEAR.describe()"
   ]
  },
  {
   "cell_type": "code",
   "execution_count": 22,
   "id": "295bd022-f447-4521-a0cc-d72e22e49047",
   "metadata": {},
   "outputs": [
    {
     "data": {
      "text/plain": [
       "count    52215.000000\n",
       "mean         6.539711\n",
       "std          3.440673\n",
       "min         -9.000000\n",
       "25%          5.000000\n",
       "50%          7.000000\n",
       "75%          9.000000\n",
       "max         11.000000\n",
       "Name: HHFAMINC, dtype: float64"
      ]
     },
     "execution_count": 22,
     "metadata": {},
     "output_type": "execute_result"
    }
   ],
   "source": [
    "# generate descriptive statistics on the household income variable\n",
    "# this variable will require recoding (e.g. 1 = Less than $10,000, 2 = $10,000 to $14,999 ...)\n",
    "# need to refer back to the codebook to see what each value represents\n",
    "CA_veh.HHFAMINC.describe()"
   ]
  },
  {
   "cell_type": "code",
   "execution_count": 23,
   "id": "e0ed9b73-c453-48a4-97df-a998e2b34c91",
   "metadata": {},
   "outputs": [
    {
     "data": {
      "text/plain": [
       "HOUSEID     0\n",
       "VEHYEAR     0\n",
       "VEHAGE      0\n",
       "MAKE        0\n",
       "MODEL       0\n",
       "FUELTYPE    0\n",
       "VEHTYPE     0\n",
       "HYBRID      0\n",
       "PERSONID    0\n",
       "HHSIZE      0\n",
       "HHVEHCNT    0\n",
       "HHFAMINC    0\n",
       "DRVRCNT     0\n",
       "HHSTATE     0\n",
       "HHSTFIPS    0\n",
       "NUMADLT     0\n",
       "WRKCOUNT    0\n",
       "HH_RACE     0\n",
       "HH_HISP     0\n",
       "HH_CBSA     0\n",
       "dtype: int64"
      ]
     },
     "execution_count": 23,
     "metadata": {},
     "output_type": "execute_result"
    }
   ],
   "source": [
    "# check for missing values in each column\n",
    "CA_veh.isna().sum()"
   ]
  },
  {
   "cell_type": "code",
   "execution_count": 24,
   "id": "4d7b27b1-d753-42e0-980f-6dc32c14b46f",
   "metadata": {},
   "outputs": [],
   "source": [
    "# the dataset does not show any missing values but some values are coded as\n",
    "# \"refused\", \"not ascertained\",\"don't know\", which maybe can be treated as \"missing\""
   ]
  },
  {
   "cell_type": "markdown",
   "id": "7bef51b1-47c4-4368-b320-8200b4ad5e68",
   "metadata": {},
   "source": [
    "Generate some plots of selected variables"
   ]
  },
  {
   "cell_type": "code",
   "execution_count": 25,
   "id": "7f123a0c-5ba2-4966-8f0e-e7798c15a041",
   "metadata": {},
   "outputs": [
    {
     "data": {
      "text/plain": [
       "<AxesSubplot:ylabel='Frequency'>"
      ]
     },
     "execution_count": 25,
     "metadata": {},
     "output_type": "execute_result"
    },
    {
     "data": {
      "image/png": "[encoded data removed]",
      "text/plain": [
       "<Figure size 432x288 with 1 Axes>"
      ]
     },
     "metadata": {
      "needs_background": "light"
     },
     "output_type": "display_data"
    }
   ],
   "source": [
    "# Household income \n",
    "# Note, this variable will require recoding since each value represents an income bracket\n",
    "# It is also a categorical variable\n",
    "# The negative values represent \"not ascertained\", \"I don't know\", and \"I prefer not to answer\" \n",
    "CA_veh['HHFAMINC'].plot(kind='hist')"
   ]
  },
  {
   "cell_type": "code",
   "execution_count": 26,
   "id": "a6955734-887c-4a4d-8e44-509a01be9d57",
   "metadata": {},
   "outputs": [
    {
     "data": {
      "text/plain": [
       "<AxesSubplot:ylabel='Frequency'>"
      ]
     },
     "execution_count": 26,
     "metadata": {},
     "output_type": "execute_result"
    },
    {
     "data": {
      "image/png": "[encoded data removed]",
      "text/plain": [
       "<Figure size 432x288 with 1 Axes>"
      ]
     },
     "metadata": {
      "needs_background": "light"
     },
     "output_type": "display_data"
    }
   ],
   "source": [
    "# Number of workers in household\n",
    "CA_veh['WRKCOUNT'].plot(kind='hist')"
   ]
  },
  {
   "cell_type": "code",
   "execution_count": 27,
   "id": "a2a2c8b6-edf7-4195-881b-80e34ac8c8db",
   "metadata": {},
   "outputs": [],
   "source": [
    "# Create a new dataframe for low income households \n",
    "# defined as households with incoem of $35,000 or less\n",
    "# 01=Less than $10,000, 02=$10,000 to $14,999, 03=$15,000 to $24,999, 04=$25,000 to $34,999  \n",
    "# keep the age of their vehicle in the dataframe \n",
    "linc_vehage = CA_veh.loc[CA_veh['HHFAMINC'].between(1,4), 'VEHAGE']"
   ]
  },
  {
   "cell_type": "code",
   "execution_count": 28,
   "id": "9194d08c-1a35-4a7d-bb0e-4770a0cd04b5",
   "metadata": {},
   "outputs": [
    {
     "data": {
      "text/plain": [
       "(array([  85.,  286., 1495., 1780., 1901., 1866.,  800.,  370.,   82.,\n",
       "         370.]),\n",
       " array([-8. , -3.2,  1.6,  6.4, 11.2, 16. , 20.8, 25.6, 30.4, 35.2, 40. ]),\n",
       " <BarContainer object of 10 artists>)"
      ]
     },
     "execution_count": 28,
     "metadata": {},
     "output_type": "execute_result"
    },
    {
     "data": {
      "image/png": "[encoded data removed]",
      "text/plain": [
       "<Figure size 432x288 with 1 Axes>"
      ]
     },
     "metadata": {
      "needs_background": "light"
     },
     "output_type": "display_data"
    }
   ],
   "source": [
    "plt.hist(linc_vehage)"
   ]
  },
  {
   "cell_type": "code",
   "execution_count": 29,
   "id": "955a32d6-06ef-406f-a60d-bdabaa4a4df1",
   "metadata": {},
   "outputs": [],
   "source": [
    "# Redo the previous code but exclude negative values for age of vehicle\n",
    "# these represent 'prefer not to answer' or 'don't know'\n",
    "linc_vehage = CA_veh.loc[CA_veh['HHFAMINC'].between(1,4) & (CA_veh['VEHAGE']>0), 'VEHAGE']"
   ]
  },
  {
   "cell_type": "code",
   "execution_count": null,
   "id": "96095855-5f0f-4130-9306-2379b10a657a",
   "metadata": {},
   "outputs": [],
   "source": [
    "#linc = CA_veh.loc[CA_veh['HHFAMINC'].between (1,4)]\n",
    "#linc['HHFAMINC'].value_counts()"
   ]
  },
  {
   "cell_type": "code",
   "execution_count": 30,
   "id": "48fa88f1-667a-41e5-b6d5-97c3527613c5",
   "metadata": {},
   "outputs": [
    {
     "data": {
      "text/plain": [
       "(array([1245., 1037., 1758., 1914., 1374.,  696.,  375.,  181.,    0.,\n",
       "         370.]),\n",
       " array([ 1. ,  4.9,  8.8, 12.7, 16.6, 20.5, 24.4, 28.3, 32.2, 36.1, 40. ]),\n",
       " <BarContainer object of 10 artists>)"
      ]
     },
     "execution_count": 30,
     "metadata": {},
     "output_type": "execute_result"
    },
    {
     "data": {
      "image/png": "[encoded data removed]",
      "text/plain": [
       "<Figure size 432x288 with 1 Axes>"
      ]
     },
     "metadata": {
      "needs_background": "light"
     },
     "output_type": "display_data"
    }
   ],
   "source": [
    "# Recheck histogram to see if negative values are excluded\n",
    "plt.hist(linc_vehage)"
   ]
  },
  {
   "cell_type": "code",
   "execution_count": null,
   "id": "178d85ee-4419-4fdc-b311-29808fd41aeb",
   "metadata": {},
   "outputs": [],
   "source": [
    "# Repeat prevouse code but for high income housheolds ($100,000 or more)\n",
    "# 08=$100,000 to $124,999, 09=$125,000 to $149,999, 10=$150,000 to $199,999, 11=$200,000 or more  "
   ]
  },
  {
   "cell_type": "code",
   "execution_count": null,
   "id": "6626b9af-3367-46ec-9021-a3df6d9287b3",
   "metadata": {},
   "outputs": [],
   "source": [
    "# hinc = CA_veh.loc[CA_veh['HHFAMINC']>= 8]\n",
    "# check to see if values 8 to 11 are only the ones included\n",
    "# hinc_vehage['HHFAMINC'].value_counts()"
   ]
  },
  {
   "cell_type": "code",
   "execution_count": 31,
   "id": "49cdbe07-5b9b-4c1c-90cb-3636b2d174f4",
   "metadata": {},
   "outputs": [],
   "source": [
    "hinc_vehage = CA_veh.loc[CA_veh['HHFAMINC'].between(8,11) & (CA_veh['VEHAGE']>0), 'VEHAGE']"
   ]
  },
  {
   "cell_type": "code",
   "execution_count": 32,
   "id": "183e548b-1483-4c14-8898-05d2250ebade",
   "metadata": {},
   "outputs": [
    {
     "data": {
      "text/plain": [
       "(array([6236., 3961., 4273., 3106., 1511.,  582.,  246.,  187.,    0.,\n",
       "         726.]),\n",
       " array([ 1. ,  4.9,  8.8, 12.7, 16.6, 20.5, 24.4, 28.3, 32.2, 36.1, 40. ]),\n",
       " <BarContainer object of 10 artists>)"
      ]
     },
     "execution_count": 32,
     "metadata": {},
     "output_type": "execute_result"
    },
    {
     "data": {
      "image/png": "[encoded data removed]",
      "text/plain": [
       "<Figure size 432x288 with 1 Axes>"
      ]
     },
     "metadata": {
      "needs_background": "light"
     },
     "output_type": "display_data"
    }
   ],
   "source": [
    "plt.hist(hinc_vehage)"
   ]
  },
  {
   "cell_type": "code",
   "execution_count": 33,
   "id": "f22141eb-7add-47d5-8bf6-c6652c7d6726",
   "metadata": {},
   "outputs": [
    {
     "data": {
      "text/plain": [
       "(array([[1245., 1037., 1758., 1914., 1374.,  696.,  375.,  181.,    0.,\n",
       "          370.],\n",
       "        [6236., 3961., 4273., 3106., 1511.,  582.,  246.,  187.,    0.,\n",
       "          726.]]),\n",
       " array([ 1. ,  4.9,  8.8, 12.7, 16.6, 20.5, 24.4, 28.3, 32.2, 36.1, 40. ]),\n",
       " <a list of 2 BarContainer objects>)"
      ]
     },
     "execution_count": 33,
     "metadata": {},
     "output_type": "execute_result"
    },
    {
     "data": {
      "image/png": "[encoded data removed]",
      "text/plain": [
       "<Figure size 432x288 with 1 Axes>"
      ]
     },
     "metadata": {
      "needs_background": "light"
     },
     "output_type": "display_data"
    }
   ],
   "source": [
    "# compare the vehicle age distribution between low-income and high-income households\n",
    "plt.hist([linc_vehage, hinc_vehage])"
   ]
  },
  {
   "cell_type": "code",
   "execution_count": 41,
   "id": "401742ea-0dee-444a-a665-7036d79f3f5b",
   "metadata": {},
   "outputs": [
    {
     "data": {
      "text/plain": [
       "14.20826815642458"
      ]
     },
     "execution_count": 41,
     "metadata": {},
     "output_type": "execute_result"
    }
   ],
   "source": [
    "# check the average age of vehicle for each income categories\n",
    "linc_vehage.mean()"
   ]
  },
  {
   "cell_type": "code",
   "execution_count": 40,
   "id": "3c3653a6-f781-4682-bded-7f45e5a8000e",
   "metadata": {},
   "outputs": [
    {
     "data": {
      "text/plain": [
       "10.151910889187633"
      ]
     },
     "execution_count": 40,
     "metadata": {},
     "output_type": "execute_result"
    }
   ],
   "source": [
    "hinc_vehage.mean()"
   ]
  },
  {
   "cell_type": "code",
   "execution_count": 36,
   "id": "4e9bd179-d7da-4510-8f98-258726f94178",
   "metadata": {},
   "outputs": [],
   "source": [
    "# Now let's compare the counts of vehicles between low-income and high-income housheolds\n",
    "linc_vehcnt = CA_veh.loc[CA_veh['HHFAMINC'].between(1,4), 'HHVEHCNT']\n",
    "hinc_vehcnt = CA_veh.loc[CA_veh['HHFAMINC'].between(8,11), 'HHVEHCNT']"
   ]
  },
  {
   "cell_type": "code",
   "execution_count": 37,
   "id": "81757884-e9eb-42b8-8e97-72c8bdbe509c",
   "metadata": {},
   "outputs": [
    {
     "data": {
      "text/plain": [
       "(array([[6484., 1452.,  580.,  290.,  126.,   49.,   16.,   18.,   20.,\n",
       "            0.],\n",
       "        [9057., 5895., 3288., 1355.,  600.,  385.,  144.,   45.,   70.,\n",
       "           82.]]),\n",
       " array([ 1. ,  2.1,  3.2,  4.3,  5.4,  6.5,  7.6,  8.7,  9.8, 10.9, 12. ]),\n",
       " <a list of 2 BarContainer objects>)"
      ]
     },
     "execution_count": 37,
     "metadata": {},
     "output_type": "execute_result"
    },
    {
     "data": {
      "image/png": "[encoded data removed]",
      "text/plain": [
       "<Figure size 432x288 with 1 Axes>"
      ]
     },
     "metadata": {
      "needs_background": "light"
     },
     "output_type": "display_data"
    }
   ],
   "source": [
    "plt.hist([linc_vehcnt, hinc_vehcnt])"
   ]
  },
  {
   "cell_type": "code",
   "execution_count": 38,
   "id": "1bdd1038-3984-414b-9a47-49cc73201d2a",
   "metadata": {},
   "outputs": [
    {
     "data": {
      "text/plain": [
       "2.131377974543442"
      ]
     },
     "execution_count": 38,
     "metadata": {},
     "output_type": "execute_result"
    }
   ],
   "source": [
    "# let's check to the see the average number of vehicles per household for each group\n",
    "linc_vehcnt.mean()"
   ]
  },
  {
   "cell_type": "code",
   "execution_count": 39,
   "id": "359845a1-eed5-4ba7-b01f-11a4bddd168e",
   "metadata": {},
   "outputs": [
    {
     "data": {
      "text/plain": [
       "3.055351082644233"
      ]
     },
     "execution_count": 39,
     "metadata": {},
     "output_type": "execute_result"
    }
   ],
   "source": [
    "hinc_vehcnt.mean()"
   ]
  },
  {
   "cell_type": "markdown",
   "id": "b0ca6c21-7489-4981-be39-7248c312e0f8",
   "metadata": {},
   "source": [
    "**Based on your plots and exploration, use markdown cells to:**"
   ]
  },
  {
   "cell_type": "markdown",
   "id": "aab36910-6c5a-41a7-b6c5-79efd5688df4",
   "metadata": {
    "jp-MarkdownHeadingCollapsed": true,
    "tags": []
   },
   "source": [
    "**Comment on whether any further data pre-processing may be needed**\n",
    "\n",
    "This exercise only looked at the vehicle file from the NHTS dataset. Eventually, I would like to explore the other data files (e.g. person and household) to see if there are any additional information from those files that might be useful to examine. This will require figuring out how to merge these files together into one dataset. There seems to be a unique identifier that I can use to merge the files together (HOUSEID = Household Identifier). \n",
    "\n",
    "Because the NHTS dataset is a survey and represent a sample, I will need to figure out how to apply sample weights in Python. The data files include a number of sample weights which I will need to examine and determine which is the appropriate to use.  \n",
    "\n",
    "Many of the variables in the data files needs to be recoded because their values are hard to decipher without having to look back at the codebook/data dictionary. As such, I will need to figure out how to recode/create new variables (e.g. low_inc = 1, 2, 3, 4) from existing variables in the data files. \n",
    "\n",
    "**Formulate three questions that pique your curiosity and would be worth further investigation**\n",
    "    \n",
    "A couple of analytical questions that came to mind while doing this exercise were: \n",
    "\n",
    "* How do the number of vehicle counts per household vary by demographic (race) and socioeconomic (income) status? The preliminary results from the exercise earlier shows some variations by income groups. I want to examine this further and see if there are differences by race. \n",
    "* What are the characteristics of the vehicle stock by demographic and socioeconomic status?\n",
    "    * Who is more likely to own a clean vehicle (Hybrid, electric or alternative fuel)? There is a variable called FUELTYPE which can help us examine this question.\n",
    "    * Who is more likely to own older vehicles? For example, we can define this as 20 years or older using the age of the vehicle variable.\n",
    "* Who is more likely to struggle with paying for gas? The vehicle file includes a variable called 'PRICE' (Price of Gasoline Affects Travel). Although the dataset is a little outdated (2017), it can nonetheless gives us a sense of who was struggling to pay for gas in 2017 and who may be struggling to pay for gas now with the prices very high.\n",
    "\n",
    "Given the lecture this past week on Python and mapping, I am interested in producing some maps on the spatial concentration of vehicle ownership and vehicle types (\"clean vehicles\" and \"older vehicles\") by neighborhoods. I have access to this dataset from a project that I worked on. I have some experience with GIS mapping (ArcGIS) but no experience with Python mapping and very excited to learn more about Python mapping!\n",
    "\n",
    "Lastly, I might want to examine other modes of transportation that people take to work beyond driving a vehicle. Other modes include public transit, walking or biking. I hope to go through the NHTS documentation some more to see what additional information may be useful to examine. "
   ]
  },
  {
   "cell_type": "code",
   "execution_count": null,
   "id": "ffe361c6-cdfc-452b-9e6b-c973774255db",
   "metadata": {},
   "outputs": [],
   "source": []
  }
 ],
 "metadata": {
  "kernelspec": {
   "display_name": "Python 3 (ipykernel)",
   "language": "python",
   "name": "python3"
  },
  "language_info": {
   "codemirror_mode": {
    "name": "ipython",
    "version": 3
   },
   "file_extension": ".py",
   "mimetype": "text/x-python",
   "name": "python",
   "nbconvert_exporter": "python",
   "pygments_lexer": "ipython3",
   "version": "3.9.12"
  }
 },
 "nbformat": 4,
 "nbformat_minor": 5
}
