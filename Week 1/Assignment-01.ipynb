{
 "cells": [
  {
   "cell_type": "markdown",
   "id": "53a75286-8e9a-4574-a9cd-deadf632e1d1",
   "metadata": {},
   "source": [
    "# Instructions"
   ]
  },
  {
   "cell_type": "markdown",
   "id": "64e3cf6e-cf51-4531-baa3-c576b50d555b",
   "metadata": {},
   "source": [
    "The following assignment is intended to help you gain familiarity with the some software infrastructure and to help you practice (potentially completely new) Python skills.\n",
    "\n",
    "It's not intended to make you tear your hair out in consternation!  If you want hints or guidance on the basics, please post in Slack\n",
    "\n",
    "1. Join our Slack channel\n",
    "    * [click here if you need the link to join](https://join.slack.com/t/slack-rwi6743/shared_invite/zt-1batoi4rr-fTrKMVOAWFYqTOYm8bOkEQ)\n",
    "1. Make a new repository on GitHub to store assignments from this class.\n",
    "    * Go to GitHub (https://github.com) and log in. \n",
    "        * Create a GitHub account if you need one \n",
    "    * Click on \"Repositories\" and \"New\" \n",
    "    * Name your repo \"csx4501\", make it public, and select the \"Add a README file\" option\n",
    "    * Clone the new repo to your computer\n",
    "        * e.g. by using the GitHub Desktop application (https://desktop.github.com/)\n",
    "1. Copy this assignment file into the folder you just cloned.\n",
    "1. Carry out the subsequent exercises (below) in that file and save it.\n",
    "    * You will need to have Python and Jupyter installed on your computer.\n",
    "    * Contact me if you're having difficulties.\n",
    "1. Customize your repo's README file\n",
    "    * Go to the folder on your computer with the cloned files\n",
    "    * Open the README in a text editor\n",
    "    * Add a profile of yourself, a description of the course, project ideas, and your objectives for the class.\n",
    "    * Style your text\n",
    "        * Here's one [markdown guide](https://guides.github.com/features/mastering-markdown) for guidance\n",
    "1. Push your completed assignment and README files to your GitHub repository\n",
    "    1. In GitHub Desktop app, make sure that the \"Current Repository\" shown at the top is your new csx4501 repository\n",
    "    1. The changed files should show up on the left.\n",
    "    1. Add a commit summary and description on the bottom-left, then click the blue Commit button.\n",
    "    1. In the main window, click the blue button \"Push origin\" to push your changed files to GitHub.\n",
    "    1. After you push successfully, verify that your files are in your GitHub repository by visiting the website for your repository\n",
    "1. Finish the assignment by submitting a link to your GitHub repository on the Canvas site"
   ]
  },
  {
   "cell_type": "markdown",
   "id": "49b9267a-d050-4671-a643-1103fd47c690",
   "metadata": {},
   "source": [
    "# Python exercises"
   ]
  },
  {
   "cell_type": "code",
   "execution_count": 3,
   "id": "31728919-ffb3-44c6-ba97-d00489c96274",
   "metadata": {},
   "outputs": [
    {
     "name": "stdout",
     "output_type": "stream",
     "text": [
      "x = 25 y = 7\n",
      "x + y = 32\n",
      "x to the y power = 6103515625\n",
      "The remainder of x divided by y = 4\n"
     ]
    }
   ],
   "source": [
    "# Do at least three mathematical calculations with `+`, `-`, `*`, `/`, and/or `%`.\n",
    "\n",
    "x = 25\n",
    "y = 7\n",
    "\n",
    "print ('x =', x , 'y =',y)\n",
    "\n",
    "#Use the + operator to add together two values.\n",
    "print('x + y =', x+y)\n",
    "\n",
    "#Use the ** operator to calcualte exponents.\n",
    "print('x to the y power =', x**y)\n",
    "\n",
    "#Use the modulo operator to return the remainder of a division\n",
    "print('The remainder of x divided by y =', x%y)\n"
   ]
  },
  {
   "cell_type": "code",
   "execution_count": 4,
   "id": "8fe34a6d-a4f7-4111-a95a-257a7de52103",
   "metadata": {},
   "outputs": [
    {
     "name": "stdout",
     "output_type": "stream",
     "text": [
      "Negative number\n"
     ]
    }
   ],
   "source": [
    "# Assign a number to the variable `a`,\n",
    "# do a mathematical calculation to determine whether a is odd or even,\n",
    "# and print out either \"a is even\" or \"a is odd\" as appropriate.\n",
    "\n",
    "a = -18\n",
    "\n",
    "if a < 0:\n",
    "    print (\"Negative number\")\n",
    "elif a == 0:\n",
    "    print (\"Zero\")\n",
    "else:\n",
    "    print('Positive number')"
   ]
  },
  {
   "cell_type": "code",
   "execution_count": 5,
   "id": "a70653e6-0a18-4155-8b4b-c6835f72e4e6",
   "metadata": {},
   "outputs": [
    {
     "name": "stdout",
     "output_type": "stream",
     "text": [
      "{1, 2, 3, 5, 8, 13}\n",
      "{34, 4, 6, 7, 9, 10, 11, 12, 21, 55, 89}\n"
     ]
    }
   ],
   "source": [
    "# Using the given list,\n",
    "# 1. print the list\n",
    "# 2. print the 0th element \n",
    "# 3. print the 5th element \n",
    "# 4. print the last element \n",
    "# 5. print the length\n",
    "#        look at https://python.readthedocs.io/en/stable/library/functions.html\n",
    "#        specifically `len()`\n",
    "# 6. print all the elements\n",
    "# 7. print all the elements less than 8\n",
    "# 8. print out the elements in reverse order\n",
    "#        look at https://python-reference.readthedocs.io/en/latest/docs/list/\n",
    "#        specifically `reverse`\n",
    "# 9. append the next fibonacci number and print out the new list\n",
    "#        look again at the docs, this time for `append`\n",
    "#        [elements in the fibonacci sequence are equal to the sum of the previous two elements]\n",
    "\n",
    "a = [1, 1, 2, 3, 5, 8, 13, 21, 34, 55, 89]\n",
    "\n",
    "# Using the below lists\n",
    "# 1. print out all the elements that are contained in both lists\n",
    "# 2. print out the elements that are contained in either list a or list b but not both\n",
    "\n",
    "a = [1, 1, 2, 3, 5, 8, 13, 21, 34, 55, 89]\n",
    "b = [1, 2, 3, 4, 5, 6, 7, 8, 9, 10, 11, 12, 13]\n",
    "\n",
    "# 1. (Googled and found this helpful example: https://java2blog.com/find-common-elements-in-two-lists-python/)\n",
    "\n",
    "print(set(a) & set(b)) # Convert list to set as set does not allow for duplicates.\n",
    "\n",
    "# Some other alternative ways of coding for #1\n",
    "\n",
    "'''\n",
    "print(set(a).intersection(b))\n",
    "'''\n",
    "\n",
    "#Using if-else\n",
    "\n",
    "'''\n",
    "if set(a) & set(b):\n",
    "    print(set(a) & set(b))\n",
    "else: \n",
    "    print(\"No common elements\")\n",
    "'''\n",
    "\n",
    "# 2. \n",
    "\n",
    "# First find the elements unique to each list\n",
    "only_a = set(a) - set(b)\n",
    "only_b = set(b) - set(a)\n",
    "\n",
    "# Print unique elements of each, use union to print combined list\n",
    "print (only_a | only_b)\n",
    "\n",
    "# Some alternative approaches (examples found online: https://datagy.io/python-list-difference/)\n",
    "\n",
    "#symmetric = set(a) ^ set(b)\n",
    "#print (symmetric)\n",
    "\n",
    "#symmetric_diff = set(a).symmetric_difference(set(b))\n",
    "#print(symmetric_diff)\n"
   ]
  },
  {
   "cell_type": "code",
   "execution_count": 6,
   "id": "22203dab-ac71-45fa-9922-c649c7810488",
   "metadata": {},
   "outputs": [
    {
     "name": "stdout",
     "output_type": "stream",
     "text": [
      "{1, 2, 3, 5, 8, 13}\n",
      "{34, 4, 6, 7, 9, 10, 11, 12, 21, 55, 89}\n"
     ]
    }
   ],
   "source": [
    "# Using the below lists\n",
    "# 1. print out all the elements that are contained in both lists\n",
    "# 2. print out the elements that are contained in either list a or list b but not both\n",
    "\n",
    "a = [1, 1, 2, 3, 5, 8, 13, 21, 34, 55, 89]\n",
    "b = [1, 2, 3, 4, 5, 6, 7, 8, 9, 10, 11, 12, 13]\n",
    "\n",
    "# 1. (Googled and found this helpful example: https://java2blog.com/find-common-elements-in-two-lists-python/)\n",
    "\n",
    "print(set(a) & set(b)) # Convert list to set as set does not allow for duplicates.\n",
    "\n",
    "# Some other alternative ways of coding for #1\n",
    "\n",
    "'''\n",
    "print(set(a).intersection(b))\n",
    "'''\n",
    "\n",
    "#Using if-else\n",
    "\n",
    "'''\n",
    "if set(a) & set(b):\n",
    "    print(set(a) & set(b))\n",
    "else: \n",
    "    print(\"No common elements\")\n",
    "'''\n",
    "\n",
    "# 2. \n",
    "\n",
    "# First find the elements unique to each list\n",
    "only_a = set(a) - set(b)\n",
    "only_b = set(b) - set(a)\n",
    "\n",
    "# Print unique elements of each, use union to print combined list\n",
    "print (only_a | only_b)\n",
    "\n",
    "# Some alternative approaches (examples found online: https://datagy.io/python-list-difference/)\n",
    "\n",
    "#symmetric = set(a) ^ set(b)\n",
    "#print (symmetric)\n",
    "\n",
    "#symmetric_diff = set(a).symmetric_difference(set(b))\n",
    "#print(symmetric_diff)"
   ]
  },
  {
   "cell_type": "code",
   "execution_count": 7,
   "id": "ad4f7b2a-5cc1-4a65-a5b5-1f2994f42fab",
   "metadata": {},
   "outputs": [
    {
     "name": "stdout",
     "output_type": "stream",
     "text": [
      "8\n",
      "January has 7 letters\n",
      "February has 8 letters\n",
      "March has 5 letters\n",
      "April has 5 letters\n",
      "May has 3 letters\n"
     ]
    }
   ],
   "source": [
    "# Using the below dictionary\n",
    "# add a new item to the dictionary,\n",
    "# print an element from the dictionary,\n",
    "# print out the message \"<key> has <value> letters\" for every <key>/<value> pair\n",
    "\n",
    "a = {'January': 7, 'February': 8, 'March': 5, 'April': 5}\n",
    "\n",
    "# add May to the dictionary\n",
    "a ['May'] = 3\n",
    "\n",
    "# print element in dictionary\n",
    "print(a['February'])\n",
    "\n",
    "# print out message\n",
    "for month, count in a.items():\n",
    "    print (month, 'has',count,'letters')\n"
   ]
  },
  {
   "cell_type": "code",
   "execution_count": 8,
   "id": "3005621c-e50c-436a-a033-9aadae71eafb",
   "metadata": {},
   "outputs": [
    {
     "name": "stdout",
     "output_type": "stream",
     "text": [
      "first element: 1 , last element: 5\n",
      "first element: 15 , last element: 85\n",
      "first element: 3 , last element: 168\n"
     ]
    }
   ],
   "source": [
    "# Write a function that takes as input a list of numbers \n",
    "# and prints a new list of only the first and last elements of the given list.\n",
    "# Execute it with several examples.\n",
    "\n",
    "def myfunction1(my_list):\n",
    "    print ('first element:', my_list [0], ', last element:', my_list[-1])\n",
    "    \n",
    "my_list1 = [1, 2, 5]\n",
    "my_list2 = [15, 65, 48, 55, 755, 85]\n",
    "my_list3 = [3, 14, 27, 33, 45, 65, 72, 86, 95, 168]\n",
    "\n",
    "\n",
    "myfunction1(my_list1)\n",
    "myfunction1(my_list2)\n",
    "myfunction1(my_list3)"
   ]
  },
  {
   "cell_type": "code",
   "execution_count": 9,
   "id": "4a607e0a-2e1b-4e44-af40-4571f2e0b4f0",
   "metadata": {},
   "outputs": [
    {
     "name": "stdout",
     "output_type": "stream",
     "text": [
      "yes\n",
      "no\n",
      "yes\n",
      "no\n",
      "no\n",
      "yes\n"
     ]
    }
   ],
   "source": [
    "# Write a function that takes a string as input\n",
    "# and prints out \"Yes\" or \"No\" depending on whether the\n",
    "# string is a palindrome (spelled the same forwards and backwards).  \n",
    "# Execute it with several examples.\n",
    "\n",
    "# By adding :: we are not specifiying the starting and ending point; code will take entire string\n",
    "# -1 reverses the string\n",
    "\n",
    "def isPalindrome(s):\n",
    "    if s == s[::-1]:\n",
    "        print (\"yes\")\n",
    "    else:\n",
    "        print(\"no\")\n",
    "        \n",
    "isPalindrome('noon')\n",
    "isPalindrome('minimim')\n",
    "isPalindrome('refer')\n",
    "isPalindrome('python')\n",
    "isPalindrome('palindrome')\n",
    "isPalindrome('kayak')"
   ]
  },
  {
   "cell_type": "markdown",
   "id": "86f9df9a-822a-42be-a778-541173a4fefe",
   "metadata": {},
   "source": [
    "Check out the Python documentation for `random` and `string`:\n",
    "* https://python.readthedocs.io/en/stable/library/random.html\n",
    "* https://python.readthedocs.io/en/stable/library/string.html\n",
    "\n",
    "It's overkill for what you need here, but if you search for the specific attributes and methods mentioned below, you will be able to find useful information."
   ]
  },
  {
   "cell_type": "code",
   "execution_count": 10,
   "id": "c221f184-1e0b-491f-97a8-f9fb30458926",
   "metadata": {},
   "outputs": [
    {
     "name": "stdout",
     "output_type": "stream",
     "text": [
      "0.8444218515250481\n",
      "0.7579544029403025\n",
      "0.420571580830845\n"
     ]
    }
   ],
   "source": [
    "# Write a function that sets a random seed and prints three random numbers between 0 and 1\n",
    "# You may find it useful to look up:\n",
    "# random.seed and random.random\n",
    "\n",
    "import random #import random module\n",
    "\n",
    "#random() returns a random float number between 0 and 1\n",
    "def my_random():\n",
    "    random.seed(0) # Any number can be used in place of '0'\n",
    "    for i in range (3):\n",
    "        print(random.random())\n",
    "    \n",
    "my_random()"
   ]
  },
  {
   "cell_type": "code",
   "execution_count": 11,
   "id": "fc7c0629-729b-4c7e-9edb-266fbacb3be7",
   "metadata": {},
   "outputs": [
    {
     "name": "stdout",
     "output_type": "stream",
     "text": [
      "q\n",
      "YzVRYsUlhh\n",
      "ePZBKFhfdSrDsqH\n"
     ]
    }
   ],
   "source": [
    "# Write a function that takes an integer as input\n",
    "# and prints a random alphabetical character, alphabetical string,\n",
    "# and alphabetical string of a fixed length equal to the input integer.\n",
    "# You may find it useful to look up:\n",
    "# string.ascii_letters, random.randint, random.choice\n",
    "\n",
    "import random\n",
    "import string\n",
    "\n",
    "def my_random (length):\n",
    "    \n",
    "    randomCharacter = (random.choice(string.ascii_letters))\n",
    "    print(randomCharacter)\n",
    "        \n",
    "    # String with a length (k) of 10\n",
    "    # Use'join' to join the elements of the list, making it a string\n",
    "    randomString =''.join(random.choices(string.ascii_letters, k=10))\n",
    "    print (randomString)\n",
    "    \n",
    "    randomStringFixed=''.join(random.choices(string.ascii_letters, k=length))\n",
    "    print (randomStringFixed)\n",
    "    \n",
    "my_random(15)"
   ]
  },
  {
   "cell_type": "code",
   "execution_count": 12,
   "id": "c738c817-00aa-4597-b5c8-f38af11275cb",
   "metadata": {},
   "outputs": [
    {
     "name": "stdout",
     "output_type": "stream",
     "text": [
      "computer\n",
      "program\n",
      "experience\n",
      "respect\n",
      "performance\n",
      "measure\n",
      "performance\n",
      "measured\n",
      "improves\n",
      "experience\n"
     ]
    }
   ],
   "source": [
    "# Print the words in the following sentence that are longer than 6 characters\n",
    "# Note: you may find it useful to look at \n",
    "# `split` in https://python-reference.readthedocs.io/en/latest/docs/str/\n",
    "\n",
    "ml_sentence = '''\n",
    "A computer program is said to learn \n",
    "from experience E with respect to some class of tasks T \n",
    "and performance measure P if its performance at tasks in T \n",
    "as measured by P improves with experience E.\n",
    "'''\n",
    "\n",
    "# First split the sentence into a list of string (words) using split ()\n",
    "# Split uses white space default separator\n",
    "words = ml_sentence.split()\n",
    "\n",
    "for i in words:\n",
    "    if len(i)>6:\n",
    "        print (i)\n"
   ]
  },
  {
   "cell_type": "code",
   "execution_count": 14,
   "id": "25e1bc45-95db-4e39-8abf-614660bc17ba",
   "metadata": {},
   "outputs": [
    {
     "name": "stdout",
     "output_type": "stream",
     "text": [
      "tasks\n",
      "is\n",
      "experience\n",
      "A\n",
      "to\n"
     ]
    }
   ],
   "source": [
    "# Print 5 random words from following sentence:\n",
    "\n",
    "ml_sentence = '''\n",
    "A computer program is said to learn \n",
    "from experience E with respect to some class of tasks T \n",
    "and performance measure P if its performance at tasks in T \n",
    "as measured by P improves with experience E.\n",
    "'''\n",
    "words = ml_sentence.split()\n",
    "\n",
    "# T, P, E are not words, so not sure if we were to exclude these from the random procedure\n",
    "for i in range (5):\n",
    "    print(random.choice(words))\n"
   ]
  },
  {
   "cell_type": "code",
   "execution_count": null,
   "id": "8ef4c496-014c-4459-941d-afb431501191",
   "metadata": {},
   "outputs": [],
   "source": [
    "# Using the above 'ml_sentence', make a dictionary with\n",
    "# the dictionary keys equal to the unique words in the sentence,\n",
    "# and the value for each key equal to the number of times each word occurs.\n",
    "# e.g. 'hello my hello friend' would lead to the dictionary {'hello': 2, 'my': 1, 'friend': 1}\n",
    "\n",
    "# Googled for help: http://tinyurl.com/2p8kzj3a , http://tinyurl.com/5ycwmkdu\n",
    "\n",
    "# Create a new variable that splits the sentence into words\n",
    "ml_sentence2 = ml_sentence.split()\n",
    "# print(ml_sentence2)\n",
    "\n",
    "#create blank dictionary\n",
    "word_counts = {}\n",
    "\n",
    "for i in ml_sentence2: # For every word item in sentence2\n",
    "    if i not in word_counts.keys(): # populate the dictionary (if not already in dictionary, add word as key in dictionary)\n",
    "        word_counts[i]=0 # every word item initially gets a value of zero\n",
    "    word_counts[i]+=1 # add 1 to each word and continue to keep adding 1 if the word is repeated\n",
    "    \n",
    "print(word_counts)"
   ]
  },
  {
   "cell_type": "code",
   "execution_count": 2,
   "id": "33eaaa90-e336-4367-b072-58a8a71dada8",
   "metadata": {},
   "outputs": [
    {
     "name": "stdout",
     "output_type": "stream",
     "text": [
      "['ï', '»', '¿the', 'project', 'gutenberg', 'ebook', 'of', 'macbeth', ',', 'by']\n",
      "286\n",
      "11\n",
      "52\n"
     ]
    }
   ],
   "source": [
    "# Time to roll up our sleeves and make a similar dictionary for all the words in Macbeth.\n",
    "# I am going to do the first part (and you can execute this cell as is to see what happens),\n",
    "# you just need to adapt your code from above to make the dictionary at the end\n",
    "\n",
    "\n",
    "#Received error on the first run (in Jupyter notebook)\n",
    "#Error message said to fun the following:\n",
    "\n",
    "# import nltk\n",
    "# nltk.download('punkt')\n",
    "\n",
    "# Here we import libraries that can grab data from the web (via requests) and form a list of words using NLTK.\n",
    "import requests\n",
    "from nltk.tokenize import word_tokenize\n",
    "\n",
    "# Here we get the text of Macbeth from Project Gutenberg (https://www.gutenberg.org/) \n",
    "# and \"tokenize\" the text (split it up into words)\n",
    "target_url = \"https://www.gutenberg.org/files/1533/1533-0.txt\"\n",
    "response = requests.get(target_url)\n",
    "text_string = response.text\n",
    "text_string = text_string.lower()\n",
    "text_words = word_tokenize(text_string)\n",
    "\n",
    "# Here we print the first 10 words\n",
    "print(text_words[0:10])\n",
    "\n",
    "# Put in your code here to make the dictionary with the <word> : <word counts> pairs\n",
    "\n",
    "\n",
    "#Establish an empty dictionary and call it word_counts\n",
    "#Everytime we see a word and that word doesn't exist in the dictionary, create a new entry and add to it\n",
    "word_counts = {}\n",
    "\n",
    "for i in text_words: #For every word item in text_words\n",
    "    if i not in word_counts.keys(): #populate the dictionary (if word not already in dictionary, add word as key)\n",
    "        word_counts[i]=0 #every word item initially gets a value of zero\n",
    "    word_counts[i]+=1 # Add 1 to each word\n",
    "                      # add 1 to each word and continue to keep adding 1 if the word is repeated\n",
    "    \n",
    "#print(word_counts)\n",
    "\n",
    "# Check out some entries in the dictionary (such as 'Macbeth', 'sword', 'thy')\n",
    "\n",
    "print (word_counts['macbeth'])\n",
    "print (word_counts['sword'])\n",
    "print (word_counts['thy'])\n",
    "\n"
   ]
  },
  {
   "cell_type": "markdown",
   "id": "4940bcc8-b6db-4ddd-a0ec-3dcdf5fa4183",
   "metadata": {},
   "source": [
    "# End"
   ]
  }
 ],
 "metadata": {
  "kernelspec": {
   "display_name": "Python 3 (ipykernel)",
   "language": "python",
   "name": "python3"
  },
  "language_info": {
   "codemirror_mode": {
    "name": "ipython",
    "version": 3
   },
   "file_extension": ".py",
   "mimetype": "text/x-python",
   "name": "python",
   "nbconvert_exporter": "python",
   "pygments_lexer": "ipython3",
   "version": "3.9.12"
  }
 },
 "nbformat": 4,
 "nbformat_minor": 5
}
